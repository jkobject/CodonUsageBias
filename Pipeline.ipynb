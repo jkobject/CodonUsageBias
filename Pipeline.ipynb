{
 "cells": [
  {
   "cell_type": "code",
   "execution_count": 2,
   "metadata": {},
   "outputs": [
    {
     "name": "stdout",
     "output_type": "stream",
     "text": [
      "The autoreload extension is already loaded. To reload it, use:\n",
      "  %reload_ext autoreload\n"
     ]
    }
   ],
   "source": [
    "%matplotlib inline\n",
    "%load_ext autoreload\n",
    "%autoreload 2\n",
    "import pipeline1 as pi\n",
    "import matplotlib.pyplot as plt"
   ]
  },
  {
   "cell_type": "code",
   "execution_count": 14,
   "metadata": {},
   "outputs": [],
   "source": [
    "gentab,gendict,species = pi.readcods()\n",
    "gene,val,val1,_,_ = pi.prepro(gentab)"
   ]
  },
  {
   "cell_type": "code",
   "execution_count": 15,
   "metadata": {},
   "outputs": [
    {
     "data": {
      "text/plain": [
       "<matplotlib.collections.PathCollection at 0x1150e7690>"
      ]
     },
     "execution_count": 15,
     "metadata": {},
     "output_type": "execute_result"
    },
    {
     "data": {
      "image/png": "[encoded data removed]",
      "text/plain": [
       "<matplotlib.figure.Figure at 0x1150d6d90>"
      ]
     },
     "metadata": {},
     "output_type": "display_data"
    }
   ],
   "source": [
    "plt.scatter(val[:,0],val[:,1])"
   ]
  },
  {
   "cell_type": "code",
   "execution_count": 16,
   "metadata": {},
   "outputs": [
    {
     "data": {
      "text/plain": [
       "<matplotlib.collections.PathCollection at 0x114fcb2d0>"
      ]
     },
     "execution_count": 16,
     "metadata": {},
     "output_type": "execute_result"
    },
    {
     "data": {
      "image/png": "[encoded data removed]",
      "text/plain": [
       "<matplotlib.figure.Figure at 0x114f80650>"
      ]
     },
     "metadata": {},
     "output_type": "display_data"
    }
   ],
   "source": [
    "plt.scatter(val1[:,0],val1[:,1])"
   ]
  },
  {
   "cell_type": "code",
   "execution_count": 12,
   "metadata": {},
   "outputs": [
    {
     "data": {
      "text/html": [
       "\n",
       "    <div class=\"bk-root\">\n",
       "        <a href=\"https://bokeh.pydata.org\" target=\"_blank\" class=\"bk-logo bk-logo-small bk-logo-notebook\"></a>\n",
       "        <span id=\"b52aebb2-9535-4f07-912c-c45f2b7ada33\">Loading BokehJS ...</span>\n",
       "    </div>"
      ]
     },
     "metadata": {},
     "output_type": "display_data"
    },
    {
     "data": {
      "application/javascript": [
       "\n",
       "(function(root) {\n",
       "  function now() {\n",
       "    return new Date();\n",
       "  }\n",
       "\n",
       "  var force = true;\n",
       "\n",
       "  if (typeof (root._bokeh_onload_callbacks) === \"undefined\" || force === true) {\n",
       "    root._bokeh_onload_callbacks = [];\n",
       "    root._bokeh_is_loading = undefined;\n",
       "  }\n",
       "\n",
       "  var JS_MIME_TYPE = 'application/javascript';\n",
       "  var HTML_MIME_TYPE = 'text/html';\n",
       "  var EXEC_MIME_TYPE = 'application/vnd.bokehjs_exec.v0+json';\n",
       "  var CLASS_NAME = 'output_bokeh rendered_html';\n",
       "\n",
       "  /**\n",
       "   * Render data to the DOM node\n",
       "   */\n",
       "  function render(props, node) {\n",
       "    var script = document.createElement(\"script\");\n",
       "    node.appendChild(script);\n",
       "  }\n",
       "\n",
       "  /**\n",
       "   * Handle when an output is cleared or removed\n",
       "   */\n",
       "  function handleClearOutput(event, handle) {\n",
       "    var cell = handle.cell;\n",
       "\n",
       "    var id = cell.output_area._bokeh_element_id;\n",
       "    var server_id = cell.output_area._bokeh_server_id;\n",
       "    // Clean up Bokeh references\n",
       "    if (id !== undefined) {\n",
       "      Bokeh.index[id].model.document.clear();\n",
       "      delete Bokeh.index[id];\n",
       "    }\n",
       "\n",
       "    if (server_id !== undefined) {\n",
       "      // Clean up Bokeh references\n",
       "      var cmd = \"from bokeh.io.state import curstate; print(curstate().uuid_to_server['\" + server_id + \"'].get_sessions()[0].document.roots[0]._id)\";\n",
       "      cell.notebook.kernel.execute(cmd, {\n",
       "        iopub: {\n",
       "          output: function(msg) {\n",
       "            var element_id = msg.content.text.trim();\n",
       "            Bokeh.index[element_id].model.document.clear();\n",
       "            delete Bokeh.index[element_id];\n",
       "          }\n",
       "        }\n",
       "      });\n",
       "      // Destroy server and session\n",
       "      var cmd = \"import bokeh.io.notebook as ion; ion.destroy_server('\" + server_id + \"')\";\n",
       "      cell.notebook.kernel.execute(cmd);\n",
       "    }\n",
       "  }\n",
       "\n",
       "  /**\n",
       "   * Handle when a new output is added\n",
       "   */\n",
       "  function handleAddOutput(event, handle) {\n",
       "    var output_area = handle.output_area;\n",
       "    var output = handle.output;\n",
       "\n",
       "    // limit handleAddOutput to display_data with EXEC_MIME_TYPE content only\n",
       "    if ((output.output_type != \"display_data\") || (!output.data.hasOwnProperty(EXEC_MIME_TYPE))) {\n",
       "      return\n",
       "    }\n",
       "\n",
       "    var toinsert = output_area.element.find(`.${CLASS_NAME.split(' ')[0]}`);\n",
       "\n",
       "    if (output.metadata[EXEC_MIME_TYPE][\"id\"] !== undefined) {\n",
       "      toinsert[0].firstChild.textContent = output.data[JS_MIME_TYPE];\n",
       "      // store reference to embed id on output_area\n",
       "      output_area._bokeh_element_id = output.metadata[EXEC_MIME_TYPE][\"id\"];\n",
       "    }\n",
       "    if (output.metadata[EXEC_MIME_TYPE][\"server_id\"] !== undefined) {\n",
       "      var bk_div = document.createElement(\"div\");\n",
       "      bk_div.innerHTML = output.data[HTML_MIME_TYPE];\n",
       "      var script_attrs = bk_div.children[0].attributes;\n",
       "      for (var i = 0; i < script_attrs.length; i++) {\n",
       "        toinsert[0].firstChild.setAttribute(script_attrs[i].name, script_attrs[i].value);\n",
       "      }\n",
       "      // store reference to server id on output_area\n",
       "      output_area._bokeh_server_id = output.metadata[EXEC_MIME_TYPE][\"server_id\"];\n",
       "    }\n",
       "  }\n",
       "\n",
       "  function register_renderer(events, OutputArea) {\n",
       "\n",
       "    function append_mime(data, metadata, element) {\n",
       "      // create a DOM node to render to\n",
       "      var toinsert = this.create_output_subarea(\n",
       "        metadata,\n",
       "        CLASS_NAME,\n",
       "        EXEC_MIME_TYPE\n",
       "      );\n",
       "      this.keyboard_manager.register_events(toinsert);\n",
       "      // Render to node\n",
       "      var props = {data: data, metadata: metadata[EXEC_MIME_TYPE]};\n",
       "      render(props, toinsert[0]);\n",
       "      element.append(toinsert);\n",
       "      return toinsert\n",
       "    }\n",
       "\n",
       "    /* Handle when an output is cleared or removed */\n",
       "    events.on('clear_output.CodeCell', handleClearOutput);\n",
       "    events.on('delete.Cell', handleClearOutput);\n",
       "\n",
       "    /* Handle when a new output is added */\n",
       "    events.on('output_added.OutputArea', handleAddOutput);\n",
       "\n",
       "    /**\n",
       "     * Register the mime type and append_mime function with output_area\n",
       "     */\n",
       "    OutputArea.prototype.register_mime_type(EXEC_MIME_TYPE, append_mime, {\n",
       "      /* Is output safe? */\n",
       "      safe: true,\n",
       "      /* Index of renderer in `output_area.display_order` */\n",
       "      index: 0\n",
       "    });\n",
       "  }\n",
       "\n",
       "  // register the mime type if in Jupyter Notebook environment and previously unregistered\n",
       "  if (root.Jupyter !== undefined) {\n",
       "    var events = require('base/js/events');\n",
       "    var OutputArea = require('notebook/js/outputarea').OutputArea;\n",
       "\n",
       "    if (OutputArea.prototype.mime_types().indexOf(EXEC_MIME_TYPE) == -1) {\n",
       "      register_renderer(events, OutputArea);\n",
       "    }\n",
       "  }\n",
       "\n",
       "  \n",
       "  if (typeof (root._bokeh_timeout) === \"undefined\" || force === true) {\n",
       "    root._bokeh_timeout = Date.now() + 5000;\n",
       "    root._bokeh_failed_load = false;\n",
       "  }\n",
       "\n",
       "  var NB_LOAD_WARNING = {'data': {'text/html':\n",
       "     \"<div style='background-color: #fdd'>\\n\"+\n",
       "     \"<p>\\n\"+\n",
       "     \"BokehJS does not appear to have successfully loaded. If loading BokehJS from CDN, this \\n\"+\n",
       "     \"may be due to a slow or bad network connection. Possible fixes:\\n\"+\n",
       "     \"</p>\\n\"+\n",
       "     \"<ul>\\n\"+\n",
       "     \"<li>re-rerun `output_notebook()` to attempt to load from CDN again, or</li>\\n\"+\n",
       "     \"<li>use INLINE resources instead, as so:</li>\\n\"+\n",
       "     \"</ul>\\n\"+\n",
       "     \"<code>\\n\"+\n",
       "     \"from bokeh.resources import INLINE\\n\"+\n",
       "     \"output_notebook(resources=INLINE)\\n\"+\n",
       "     \"</code>\\n\"+\n",
       "     \"</div>\"}};\n",
       "\n",
       "  function display_loaded() {\n",
       "    var el = document.getElementById(\"b52aebb2-9535-4f07-912c-c45f2b7ada33\");\n",
       "    if (el != null) {\n",
       "      el.textContent = \"BokehJS is loading...\";\n",
       "    }\n",
       "    if (root.Bokeh !== undefined) {\n",
       "      if (el != null) {\n",
       "        el.textContent = \"BokehJS \" + root.Bokeh.version + \" successfully loaded.\";\n",
       "      }\n",
       "    } else if (Date.now() < root._bokeh_timeout) {\n",
       "      setTimeout(display_loaded, 100)\n",
       "    }\n",
       "  }\n",
       "\n",
       "\n",
       "  function run_callbacks() {\n",
       "    try {\n",
       "      root._bokeh_onload_callbacks.forEach(function(callback) { callback() });\n",
       "    }\n",
       "    finally {\n",
       "      delete root._bokeh_onload_callbacks\n",
       "    }\n",
       "    console.info(\"Bokeh: all callbacks have finished\");\n",
       "  }\n",
       "\n",
       "  function load_libs(js_urls, callback) {\n",
       "    root._bokeh_onload_callbacks.push(callback);\n",
       "    if (root._bokeh_is_loading > 0) {\n",
       "      console.log(\"Bokeh: BokehJS is being loaded, scheduling callback at\", now());\n",
       "      return null;\n",
       "    }\n",
       "    if (js_urls == null || js_urls.length === 0) {\n",
       "      run_callbacks();\n",
       "      return null;\n",
       "    }\n",
       "    console.log(\"Bokeh: BokehJS not loaded, scheduling load and callback at\", now());\n",
       "    root._bokeh_is_loading = js_urls.length;\n",
       "    for (var i = 0; i < js_urls.length; i++) {\n",
       "      var url = js_urls[i];\n",
       "      var s = document.createElement('script');\n",
       "      s.src = url;\n",
       "      s.async = false;\n",
       "      s.onreadystatechange = s.onload = function() {\n",
       "        root._bokeh_is_loading--;\n",
       "        if (root._bokeh_is_loading === 0) {\n",
       "          console.log(\"Bokeh: all BokehJS libraries loaded\");\n",
       "          run_callbacks()\n",
       "        }\n",
       "      };\n",
       "      s.onerror = function() {\n",
       "        console.warn(\"failed to load library \" + url);\n",
       "      };\n",
       "      console.log(\"Bokeh: injecting script tag for BokehJS library: \", url);\n",
       "      document.getElementsByTagName(\"head\")[0].appendChild(s);\n",
       "    }\n",
       "  };var element = document.getElementById(\"b52aebb2-9535-4f07-912c-c45f2b7ada33\");\n",
       "  if (element == null) {\n",
       "    console.log(\"Bokeh: ERROR: autoload.js configured with elementid 'b52aebb2-9535-4f07-912c-c45f2b7ada33' but no matching script tag was found. \")\n",
       "    return false;\n",
       "  }\n",
       "\n",
       "  var js_urls = [\"https://cdn.pydata.org/bokeh/release/bokeh-0.12.10.min.js\", \"https://cdn.pydata.org/bokeh/release/bokeh-widgets-0.12.10.min.js\", \"https://cdn.pydata.org/bokeh/release/bokeh-tables-0.12.10.min.js\", \"https://cdn.pydata.org/bokeh/release/bokeh-gl-0.12.10.min.js\"];\n",
       "\n",
       "  var inline_js = [\n",
       "    function(Bokeh) {\n",
       "      Bokeh.set_log_level(\"info\");\n",
       "    },\n",
       "    \n",
       "    function(Bokeh) {\n",
       "      \n",
       "    },\n",
       "    function(Bokeh) {\n",
       "      console.log(\"Bokeh: injecting CSS: https://cdn.pydata.org/bokeh/release/bokeh-0.12.10.min.css\");\n",
       "      Bokeh.embed.inject_css(\"https://cdn.pydata.org/bokeh/release/bokeh-0.12.10.min.css\");\n",
       "      console.log(\"Bokeh: injecting CSS: https://cdn.pydata.org/bokeh/release/bokeh-widgets-0.12.10.min.css\");\n",
       "      Bokeh.embed.inject_css(\"https://cdn.pydata.org/bokeh/release/bokeh-widgets-0.12.10.min.css\");\n",
       "      console.log(\"Bokeh: injecting CSS: https://cdn.pydata.org/bokeh/release/bokeh-tables-0.12.10.min.css\");\n",
       "      Bokeh.embed.inject_css(\"https://cdn.pydata.org/bokeh/release/bokeh-tables-0.12.10.min.css\");\n",
       "    }\n",
       "  ];\n",
       "\n",
       "  function run_inline_js() {\n",
       "    \n",
       "    if ((root.Bokeh !== undefined) || (force === true)) {\n",
       "      for (var i = 0; i < inline_js.length; i++) {\n",
       "        inline_js[i].call(root, root.Bokeh);\n",
       "      }if (force === true) {\n",
       "        display_loaded();\n",
       "      }} else if (Date.now() < root._bokeh_timeout) {\n",
       "      setTimeout(run_inline_js, 100);\n",
       "    } else if (!root._bokeh_failed_load) {\n",
       "      console.log(\"Bokeh: BokehJS failed to load within specified timeout.\");\n",
       "      root._bokeh_failed_load = true;\n",
       "    } else if (force !== true) {\n",
       "      var cell = $(document.getElementById(\"b52aebb2-9535-4f07-912c-c45f2b7ada33\")).parents('.cell').data().cell;\n",
       "      cell.output_area.append_execute_result(NB_LOAD_WARNING)\n",
       "    }\n",
       "\n",
       "  }\n",
       "\n",
       "  if (root._bokeh_is_loading === 0) {\n",
       "    console.log(\"Bokeh: BokehJS loaded, going straight to plotting\");\n",
       "    run_inline_js();\n",
       "  } else {\n",
       "    load_libs(js_urls, function() {\n",
       "      console.log(\"Bokeh: BokehJS plotting callback run at\", now());\n",
       "      run_inline_js();\n",
       "    });\n",
       "  }\n",
       "}(window));"
      ],
      "application/vnd.bokehjs_load.v0+json": "\n(function(root) {\n  function now() {\n    return new Date();\n  }\n\n  var force = true;\n\n  if (typeof (root._bokeh_onload_callbacks) === \"undefined\" || force === true) {\n    root._bokeh_onload_callbacks = [];\n    root._bokeh_is_loading = undefined;\n  }\n\n  \n\n  \n  if (typeof (root._bokeh_timeout) === \"undefined\" || force === true) {\n    root._bokeh_timeout = Date.now() + 5000;\n    root._bokeh_failed_load = false;\n  }\n\n  var NB_LOAD_WARNING = {'data': {'text/html':\n     \"<div style='background-color: #fdd'>\\n\"+\n     \"<p>\\n\"+\n     \"BokehJS does not appear to have successfully loaded. If loading BokehJS from CDN, this \\n\"+\n     \"may be due to a slow or bad network connection. Possible fixes:\\n\"+\n     \"</p>\\n\"+\n     \"<ul>\\n\"+\n     \"<li>re-rerun `output_notebook()` to attempt to load from CDN again, or</li>\\n\"+\n     \"<li>use INLINE resources instead, as so:</li>\\n\"+\n     \"</ul>\\n\"+\n     \"<code>\\n\"+\n     \"from bokeh.resources import INLINE\\n\"+\n     \"output_notebook(resources=INLINE)\\n\"+\n     \"</code>\\n\"+\n     \"</div>\"}};\n\n  function display_loaded() {\n    var el = document.getElementById(\"b52aebb2-9535-4f07-912c-c45f2b7ada33\");\n    if (el != null) {\n      el.textContent = \"BokehJS is loading...\";\n    }\n    if (root.Bokeh !== undefined) {\n      if (el != null) {\n        el.textContent = \"BokehJS \" + root.Bokeh.version + \" successfully loaded.\";\n      }\n    } else if (Date.now() < root._bokeh_timeout) {\n      setTimeout(display_loaded, 100)\n    }\n  }\n\n\n  function run_callbacks() {\n    try {\n      root._bokeh_onload_callbacks.forEach(function(callback) { callback() });\n    }\n    finally {\n      delete root._bokeh_onload_callbacks\n    }\n    console.info(\"Bokeh: all callbacks have finished\");\n  }\n\n  function load_libs(js_urls, callback) {\n    root._bokeh_onload_callbacks.push(callback);\n    if (root._bokeh_is_loading > 0) {\n      console.log(\"Bokeh: BokehJS is being loaded, scheduling callback at\", now());\n      return null;\n    }\n    if (js_urls == null || js_urls.length === 0) {\n      run_callbacks();\n      return null;\n    }\n    console.log(\"Bokeh: BokehJS not loaded, scheduling load and callback at\", now());\n    root._bokeh_is_loading = js_urls.length;\n    for (var i = 0; i < js_urls.length; i++) {\n      var url = js_urls[i];\n      var s = document.createElement('script');\n      s.src = url;\n      s.async = false;\n      s.onreadystatechange = s.onload = function() {\n        root._bokeh_is_loading--;\n        if (root._bokeh_is_loading === 0) {\n          console.log(\"Bokeh: all BokehJS libraries loaded\");\n          run_callbacks()\n        }\n      };\n      s.onerror = function() {\n        console.warn(\"failed to load library \" + url);\n      };\n      console.log(\"Bokeh: injecting script tag for BokehJS library: \", url);\n      document.getElementsByTagName(\"head\")[0].appendChild(s);\n    }\n  };var element = document.getElementById(\"b52aebb2-9535-4f07-912c-c45f2b7ada33\");\n  if (element == null) {\n    console.log(\"Bokeh: ERROR: autoload.js configured with elementid 'b52aebb2-9535-4f07-912c-c45f2b7ada33' but no matching script tag was found. \")\n    return false;\n  }\n\n  var js_urls = [\"https://cdn.pydata.org/bokeh/release/bokeh-0.12.10.min.js\", \"https://cdn.pydata.org/bokeh/release/bokeh-widgets-0.12.10.min.js\", \"https://cdn.pydata.org/bokeh/release/bokeh-tables-0.12.10.min.js\", \"https://cdn.pydata.org/bokeh/release/bokeh-gl-0.12.10.min.js\"];\n\n  var inline_js = [\n    function(Bokeh) {\n      Bokeh.set_log_level(\"info\");\n    },\n    \n    function(Bokeh) {\n      \n    },\n    function(Bokeh) {\n      console.log(\"Bokeh: injecting CSS: https://cdn.pydata.org/bokeh/release/bokeh-0.12.10.min.css\");\n      Bokeh.embed.inject_css(\"https://cdn.pydata.org/bokeh/release/bokeh-0.12.10.min.css\");\n      console.log(\"Bokeh: injecting CSS: https://cdn.pydata.org/bokeh/release/bokeh-widgets-0.12.10.min.css\");\n      Bokeh.embed.inject_css(\"https://cdn.pydata.org/bokeh/release/bokeh-widgets-0.12.10.min.css\");\n      console.log(\"Bokeh: injecting CSS: https://cdn.pydata.org/bokeh/release/bokeh-tables-0.12.10.min.css\");\n      Bokeh.embed.inject_css(\"https://cdn.pydata.org/bokeh/release/bokeh-tables-0.12.10.min.css\");\n    }\n  ];\n\n  function run_inline_js() {\n    \n    if ((root.Bokeh !== undefined) || (force === true)) {\n      for (var i = 0; i < inline_js.length; i++) {\n        inline_js[i].call(root, root.Bokeh);\n      }if (force === true) {\n        display_loaded();\n      }} else if (Date.now() < root._bokeh_timeout) {\n      setTimeout(run_inline_js, 100);\n    } else if (!root._bokeh_failed_load) {\n      console.log(\"Bokeh: BokehJS failed to load within specified timeout.\");\n      root._bokeh_failed_load = true;\n    } else if (force !== true) {\n      var cell = $(document.getElementById(\"b52aebb2-9535-4f07-912c-c45f2b7ada33\")).parents('.cell').data().cell;\n      cell.output_area.append_execute_result(NB_LOAD_WARNING)\n    }\n\n  }\n\n  if (root._bokeh_is_loading === 0) {\n    console.log(\"Bokeh: BokehJS loaded, going straight to plotting\");\n    run_inline_js();\n  } else {\n    load_libs(js_urls, function() {\n      console.log(\"Bokeh: BokehJS plotting callback run at\", now());\n      run_inline_js();\n    });\n  }\n}(window));"
     },
     "metadata": {},
     "output_type": "display_data"
    }
   ],
   "source": [
    "from bokeh.plotting import *\n",
    "from bokeh.models import HoverTool\n",
    "from bokeh.io import output_notebook\n",
    "output_notebook()"
   ]
  },
  {
   "cell_type": "code",
   "execution_count": 31,
   "metadata": {},
   "outputs": [
    {
     "data": {
      "text/html": [
       "\n",
       "<div class=\"bk-root\">\n",
       "    <div class=\"bk-plotdiv\" id=\"ce718440-cd0b-4f71-bc9c-d4193eabfc60\"></div>\n",
       "</div>"
      ]
     },
     "metadata": {},
     "output_type": "display_data"
    },
    {
     "data": {
      "application/javascript": [
       "(function(root) {\n",
       "  function embed_document(root) {\n",
       "    var docs_json = {\"f62d2097-6893-4018-be60-c866019c10ae\":{\"roots\":{\"references\":[{\"attributes\":{\"overlay\":{\"id\":\"8aab651d-a95d-4f61-8298-5ee5a46a7f85\",\"type\":\"BoxAnnotation\"}},\"id\":\"94cb8770-aa4f-447e-98f1-f73595861619\",\"type\":\"BoxZoomTool\"},{\"attributes\":{\"fill_color\":{\"value\":\"#2222aa\"},\"line_color\":{\"value\":\"#2222aa\"},\"size\":{\"units\":\"screen\",\"value\":10},\"x\":{\"field\":\"x\"},\"y\":{\"field\":\"y\"}},\"id\":\"c502f918-82aa-4333-bd62-6a2378a62f1f\",\"type\":\"Circle\"},{\"attributes\":{\"below\":[{\"id\":\"49197829-4685-4019-8ac5-c3ba32d4e5b7\",\"type\":\"LinearAxis\"}],\"left\":[{\"id\":\"1330a9d3-d7b3-42cf-aa5e-dde994cb1462\",\"type\":\"LinearAxis\"}],\"renderers\":[{\"id\":\"49197829-4685-4019-8ac5-c3ba32d4e5b7\",\"type\":\"LinearAxis\"},{\"id\":\"2006f5c9-72bb-4bd4-a1b5-1424ec8b78ba\",\"type\":\"Grid\"},{\"id\":\"1330a9d3-d7b3-42cf-aa5e-dde994cb1462\",\"type\":\"LinearAxis\"},{\"id\":\"72ceefb5-43b1-49e7-9dca-523bdb6ed3a8\",\"type\":\"Grid\"},{\"id\":\"8aab651d-a95d-4f61-8298-5ee5a46a7f85\",\"type\":\"BoxAnnotation\"},{\"id\":\"fb7e685b-b99a-4f70-9658-98ffd55ac6e1\",\"type\":\"GlyphRenderer\"}],\"title\":{\"id\":\"b166d8f3-a22c-4ddf-932b-a2b68dceb017\",\"type\":\"Title\"},\"toolbar\":{\"id\":\"26a57922-f6d8-4baf-85e7-79a55c01522e\",\"type\":\"Toolbar\"},\"x_range\":{\"id\":\"97dcdef3-6806-465e-90b1-98f1a2c1042e\",\"type\":\"DataRange1d\"},\"x_scale\":{\"id\":\"c102ad86-d881-4c89-bc6c-121e3023fdb2\",\"type\":\"LinearScale\"},\"y_range\":{\"id\":\"62c3b243-cc9f-4099-a8de-5520ea19224b\",\"type\":\"DataRange1d\"},\"y_scale\":{\"id\":\"29ff130f-2ba1-4982-bb3e-efac447e899f\",\"type\":\"LinearScale\"}},\"id\":\"b89f9156-a85b-4418-ad9c-e3f3d5d96f02\",\"subtype\":\"Figure\",\"type\":\"Plot\"},{\"attributes\":{\"formatter\":{\"id\":\"ce7f677b-9703-4886-95cb-74b4945625b2\",\"type\":\"BasicTickFormatter\"},\"plot\":{\"id\":\"b89f9156-a85b-4418-ad9c-e3f3d5d96f02\",\"subtype\":\"Figure\",\"type\":\"Plot\"},\"ticker\":{\"id\":\"8e408bd8-019c-463b-a92d-e8f0cfc30a79\",\"type\":\"BasicTicker\"}},\"id\":\"49197829-4685-4019-8ac5-c3ba32d4e5b7\",\"type\":\"LinearAxis\"},{\"attributes\":{\"callback\":null},\"id\":\"62c3b243-cc9f-4099-a8de-5520ea19224b\",\"type\":\"DataRange1d\"},{\"attributes\":{\"formatter\":{\"id\":\"5394b1b9-4fbc-4dcf-8162-f213deab46b0\",\"type\":\"BasicTickFormatter\"},\"plot\":{\"id\":\"b89f9156-a85b-4418-ad9c-e3f3d5d96f02\",\"subtype\":\"Figure\",\"type\":\"Plot\"},\"ticker\":{\"id\":\"24fd07b2-8b9c-4dad-9fe5-7d3a92781d0e\",\"type\":\"BasicTicker\"}},\"id\":\"1330a9d3-d7b3-42cf-aa5e-dde994cb1462\",\"type\":\"LinearAxis\"},{\"attributes\":{},\"id\":\"9803aba3-3fcc-40e4-9467-249506c56a09\",\"type\":\"WheelZoomTool\"},{\"attributes\":{\"data_source\":{\"id\":\"f31cee47-9249-4853-97b6-49b169d112a6\",\"type\":\"ColumnDataSource\"},\"glyph\":{\"id\":\"c502f918-82aa-4333-bd62-6a2378a62f1f\",\"type\":\"Circle\"},\"hover_glyph\":null,\"muted_glyph\":null,\"nonselection_glyph\":{\"id\":\"48e0f690-0c04-4f47-b504-21c41ada54b1\",\"type\":\"Circle\"},\"selection_glyph\":null,\"view\":{\"id\":\"148bb750-125c-4eda-ab24-24426e58efc9\",\"type\":\"CDSView\"}},\"id\":\"fb7e685b-b99a-4f70-9658-98ffd55ac6e1\",\"type\":\"GlyphRenderer\"},{\"attributes\":{\"plot\":{\"id\":\"b89f9156-a85b-4418-ad9c-e3f3d5d96f02\",\"subtype\":\"Figure\",\"type\":\"Plot\"},\"ticker\":{\"id\":\"8e408bd8-019c-463b-a92d-e8f0cfc30a79\",\"type\":\"BasicTicker\"}},\"id\":\"2006f5c9-72bb-4bd4-a1b5-1424ec8b78ba\",\"type\":\"Grid\"},{\"attributes\":{},\"id\":\"29ff130f-2ba1-4982-bb3e-efac447e899f\",\"type\":\"LinearScale\"},{\"attributes\":{\"bottom_units\":\"screen\",\"fill_alpha\":{\"value\":0.5},\"fill_color\":{\"value\":\"lightgrey\"},\"left_units\":\"screen\",\"level\":\"overlay\",\"line_alpha\":{\"value\":1.0},\"line_color\":{\"value\":\"black\"},\"line_dash\":[4,4],\"line_width\":{\"value\":2},\"plot\":null,\"render_mode\":\"css\",\"right_units\":\"screen\",\"top_units\":\"screen\"},\"id\":\"8aab651d-a95d-4f61-8298-5ee5a46a7f85\",\"type\":\"BoxAnnotation\"},{\"attributes\":{\"active_drag\":\"auto\",\"active_inspect\":\"auto\",\"active_scroll\":\"auto\",\"active_tap\":\"auto\",\"tools\":[{\"id\":\"9ae7db54-a8f7-4ee6-81d9-50a0273640ea\",\"type\":\"HoverTool\"},{\"id\":\"94cb8770-aa4f-447e-98f1-f73595861619\",\"type\":\"BoxZoomTool\"},{\"id\":\"9803aba3-3fcc-40e4-9467-249506c56a09\",\"type\":\"WheelZoomTool\"},{\"id\":\"8d5985a2-014a-4310-aa0d-2e3ff83fd768\",\"type\":\"SaveTool\"},{\"id\":\"30cb9429-7dd7-45ce-bac4-ef70eeefcc22\",\"type\":\"ResetTool\"}]},\"id\":\"26a57922-f6d8-4baf-85e7-79a55c01522e\",\"type\":\"Toolbar\"},{\"attributes\":{\"callback\":null,\"tooltips\":[[\"label\",\"@label\"]]},\"id\":\"9ae7db54-a8f7-4ee6-81d9-50a0273640ea\",\"type\":\"HoverTool\"},{\"attributes\":{},\"id\":\"30cb9429-7dd7-45ce-bac4-ef70eeefcc22\",\"type\":\"ResetTool\"},{\"attributes\":{\"callback\":null,\"column_names\":[\"y\",\"x\",\"label\"],\"data\":{\"label\":[\"species : saccharomyces_sp_boulardii_\",\"species : saccharomyces_cerevisiae_x_saccharomyces_kudriavzevii_vin7\",\"species : saccharomyces_eubayanus\",\"species : saccharomyces_arboricola_h_6\",\"species : tetrapisispora_blattae_cbs_6284\",\"species : tetrapisispora_phaffii_cbs_4417\",\"species : naumovozyma_dairenensis_cbs_421\",\"species : naumovozyma_castellii_cbs_4309\",\"species : torulaspora_delbrueckii\",\"species : zygosaccharomyces_rouxii\",\"species : _candida_glabrata\",\"species : vanderwaltozyma_polyspora_dsm_70294\",\"species : zygosaccharomyces_bailii_isa1307\",\"species : zygosaccharomyces_bailii_isa1307\",\"species : kazachstania_naganishii_cbs_8797\",\"species : kazachstania_africana_cbs_2517\",\"species : eremothecium_cymbalariae_dbvpg_7215\",\"species : saccharomycetaceae_sp_ashbya_aceri_\",\"species : ashbya_gossypii\",\"species : kluyveromyces_lactis\",\"species : eremothecium_sinecaudum\",\"species : kluyveromyces_marxianus_dmku3_1042\",\"species : lachancea_thermotolerans_cbs_6340\",\"species : lachancea_lanzarotensis\",\"species : hanseniaspora_osmophila\",\"species : hanseniaspora_valbyensis_nrrl_y_1626\",\"species : hanseniaspora_opuntiae\",\"species : hanseniaspora_uvarum_dsm_2768\",\"species : candida_tropicalis_mya_3404\",\"species : _candida_tenuis_atcc_10573\",\"species : candida_arabinofermentans_nrrl_yb_2248\",\"species : pichia_membranifaciens_nrrl_y_2026\",\"species : clavispora_lusitaniae_atcc_42720\",\"species : candida_tanzawaensis_nrrl_y_17324\",\"species : wickerhamomyces_anomalus_nrrl_y_366_8\",\"species : debaryomyces_fabryi\",\"species : candida_albicans_wo_1\",\"species : candida_parapsilosis_cdc317\",\"species : candida_maltosa_xu316\",\"species : wickerhamomyces_ciferrii\",\"species : lodderomyces_elongisporus_nrrl_yb_4239\",\"species : hyphopichia_burtonii_nrrl_y_1933\",\"species : kuraishia_capsulata_cbs_1993\",\"species : _candida_auris\",\"species : pichia_kudriavzevii\",\"species : ogataea_polymorpha\",\"species : candida_orthopsilosis_co_90_125\",\"species : debaryomyces_hansenii_cbs767\",\"species : millerozyma_farinosa_cbs_7064\",\"species : candida_dubliniensis_cd36\",\"species : ogataea_parapolymorpha_dl_1\",\"species : metschnikowia_bicuspidata_var_bicuspidata_nrrl_yb_4993\",\"species : scheffersomyces_stipitis_cbs_6054\",\"species : cyberlindnera_jadinii\",\"species : komagataella_pastoris\",\"species : millerozyma_farinosa_cbs_7064\",\"species : komagataella_phaffii_cbs_7435\",\"species : ascoidea_rubescens_dsm_1968\",\"species : spathaspora_passalidarum_nrrl_y_27907\",\"species : nadsonia_fulvescens_var_elongata_dsm_6958\",\"species : yarrowia_lipolytica\",\"species : sugiyamaella_lignohabitans\",\"species : lipomyces_starkeyi_nrrl_y_11557\",\"species : geotrichum_candidum\",\"species : tortispora_caseinolytica_nrrl_y_17796\",\"species : tuber_melanosporum\",\"species : pyronema_omphalodes_cbs_100304\",\"species : schizosaccharomyces_japonicus\",\"species : schizosaccharomyces_octosporus\",\"species : schizosaccharomyces_japonicus\",\"species : schizosaccharomyces_octosporus\",\"species : schizosaccharomyces_pombe\",\"species : pneumocystis_murina_b123\",\"species : schizosaccharomyces_octosporus\",\"species : schizosaccharomyces_cryophilus\",\"species : schizosaccharomyces_cryophilus\",\"species : pneumocystis_jirovecii_ru7\",\"species : saitoella_complicata_nrrl_y_17804\",\"species : pneumocystis_carinii_b80\",\"species : schizosaccharomyces_japonicus\",\"species : schizosaccharomyces_pombe\",\"species : schizosaccharomyces_cryophilus\",\"species : schizosaccharomyces_pombe\",\"species : thielavia_terrestris_nrrl_8126\",\"species : valsa_mali_var_pyri\",\"species : trichoderma_reesei\",\"species : colletotrichum_gloeosporioides\",\"species : trichoderma_virens\",\"species : pochonia_chlamydosporia_170\",\"species : fusarium_fujikuroi\",\"species : cordyceps_militaris_cm01\",\"species : madurella_mycetomatis\",\"species : sporothrix_schenckii_atcc_58251\",\"species : metarhizium_majus_arsef_297\",\"species : gaeumannomyces_graminis\",\"species : ophiostoma_piceae_uamh_11346\",\"species : magnaporthe_oryzae\",\"species : colletotrichum_sublineola\",\"species : podospora_anserina_s_mat_\",\"species : neurospora_tetrasperma_fgsc_2509\",\"species : beauveria_bassiana_arsef_2860\",\"species : fusarium_poae\",\"species : purpureocillium_lilacinum\",\"species : myceliophthora_thermophila_atcc_42464\",\"species : phaeoacremonium_minimum_ucrpa7\",\"species : pestalotiopsis_fici_w106_1\",\"species : colletotrichum_fioriniae_pj7\",\"species : sporothrix_brasiliensis_5110\",\"species : microdochium_bolleyi\",\"species : chaetomium_globosum_cbs_148_51\",\"species : colletotrichum_salicis\",\"species : thielaviopsis_punctulata\",\"species : claviceps_purpurea_20_1\",\"species : fusarium_graminearum\",\"species : chaetomium_thermophilum_var_thermophilum_dsm_1495\",\"species : neonectria_ditissima\",\"species : trichoderma_harzianum\",\"species : verticillium_dahliae\",\"species : diaporthe_ampelina\",\"species : verticillium_longisporum\",\"species : metarhizium_acridum_cqma_102\",\"species : fusarium_verticillioides\",\"species : trichoderma_atroviride_imi_206040\",\"species : dactylellina_haptotyla_cbs_200_50\",\"species : verticillium_alfalfae_vams_102\",\"species : scedosporium_apiospermum\",\"species : metarhizium_anisopliae_arsef_23\",\"species : fusarium_oxysporum\",\"species : fusarium_culmorum\",\"species : cordyceps_brongniartii_rcef_3172\",\"species : ophiocordyceps_sinensis_co18\",\"species : neurospora_crassa\",\"species : magnaporthe_poae\",\"species : fusarium_pseudograminearum\",\"species : aschersonia_aleyrodis_rcef_2490\",\"species : fusarium_langsethiae\",\"species : ceratocystis_platani\",\"species : diaporthe_helianthi\",\"species : stachybotrys_chlorohalonata_ibt_40285\",\"species : arthrobotrys_oligospora_atcc_24927\",\"species : cordyceps_confragosa_rcef_1005\",\"species : stachybotrys_chartarum_ibt_40293\",\"species : drechmeria_coniospora\",\"species : colletotrichum_incanum\",\"species : torrubiella_hemipterigena\",\"species : colletotrichum_nymphaeae_sa_01\",\"species : metarhizium_album_arsef_1941\",\"species : colletotrichum_higginsianum\",\"species : grosmannia_clavigera_kw1407\",\"species : sordaria_macrospora\",\"species : colletotrichum_orbiculare\",\"species : ophiocordyceps_unilateralis\",\"species : metarhizium_brunneum_arsef_3297\",\"species : colletotrichum_graminicola\",\"species : sporothrix_insectorum_rcef_264\",\"species : escovopsis_weberi\",\"species : tolypocladium_ophioglossoides_cbs_100239\",\"species : acremonium_chrysogenum_atcc_11550\",\"species : colletotrichum_simmondsii\",\"species : fusarium_solani\",\"species : eutypa_lata_ucrel1\",\"species : trichoderma_gamsii\",\"species : drechslerella_stenobrocha_248\",\"species : colletotrichum_tofieldiae\",\"species : metarhizium_guizhouense_arsef_977\",\"species : metarhizium_anisopliae\",\"species : isaria_fumosorosea_arsef_2679\",\"species : ustilaginoidea_virens\",\"species : metarhizium_rileyi_rcef_4871\",\"species : serendipita_vermifera_maff_305830\",\"species : malassezia_pachydermatis\",\"species : phlebiopsis_gigantea_11061_1_cr5_6\",\"species : hypsizygus_marmoreus\",\"species : tulasnella_calospora_mut_4182\",\"species : heterobasidion_irregulare_tc_32_1\",\"species : scleroderma_citrinum_foug_a\",\"species : wallemia_ichthyophaga_exf_994\",\"species : malassezia_sympodialis_atcc_42132\",\"species : fibulorhizoctonia_sp_cbs_109695\",\"species : kwoniella_bestiolae_cbs_10118\",\"species : laccaria_amethystina_laam_08_1\",\"species : pisolithus_microcarpus_441\",\"species : galerina_marginata_cbs_339_88\",\"species : postia_placenta_mad_698_r\",\"species : sporidiobolus_salmonicolor\",\"species : tilletia_caries\",\"species : schizophyllum_commune_h4_8\",\"species : puccinia_sorghi\",\"species : ustilago_hordei\",\"species : kwoniella_dejecticola_cbs_10117\",\"species : botryobasidium_botryosum_fd_172_ss1\",\"species : piloderma_croceum_f_1598\",\"species : tsuchiyaea_wingfieldii_cbs_7118\",\"species : cryptococcus_gattii_vgiv_ind107\",\"species : kwoniella_heveanensis_cbs_569\",\"species : rhizopogon_vinicolor_am_or11_026\",\"species : exidia_glandulosa_hhb12029\",\"species : rhodotorula_sp_jg_1b\",\"species : gelatoporia_subvermispora_b\",\"species : melampsora_laricipopulina\",\"species : puccinia_triticina\",\"species : grifola_frondosa\",\"species : xanthophyllomyces_dendrorhous\",\"species : wallemia_mellicola_cbs_633_66\",\"species : postia_placenta_mad_698_r\",\"species : calocera_viscosa_tufc12733\",\"species : ceraceosorus_bombacis\",\"species : phanerochaete_carnosa_hhb_10118_sp\",\"species : gloeophyllum_trabeum_atcc_11539\",\"species : kalmanozyma_brasiliensis_ghg001\",\"species : cryptococcus_neoformans\",\"species : laccaria_bicolor_s238n_h82\",\"species : tilletiaria_anomala_ubc_951\",\"species : sporisorium_scitamineum\",\"species : pleurotus_ostreatus_pc15\",\"species : rhodotorula_toruloides_np11\",\"species : pisolithus_tinctorius_marx_270\",\"species : suillus_luteus_uh_slu_lm8_n1\",\"species : cryptococcus_depauperatus_cbs_7855\",\"species : coprinopsis_cinerea_okayama7_130\",\"species : ustilago_maydis\",\"species : agaricus_bisporus_var_burnettii_jb137_s8\",\"species : tilletia_walkeri\",\"species : cryptococcus_amylolentus_cbs_6039\",\"species : neolentinus_lepideus_hhb14362_ss_1\",\"species : fibroporia_radiculosa\",\"species : tilletia_controversa\",\"species : tilletia_indica\",\"species : fomitopsis_pinicola_fp_58527_ss1\",\"species : rhodotorula_graminis_wp1\",\"species : hypholoma_sublateritium_fd_334_ss_4\",\"species : hebeloma_cylindrosporum_h7\",\"species : fistulina_hepatica_atcc_64428\",\"species : serpula_lacrymans_var_lacrymans_s7_3\",\"species : moniliophthora_roreri_mca_2997\",\"species : hydnomerulius_pinastri_md_312\",\"species : jaapia_argillacea_mucl_33604\",\"species : anthracocystis_flocculosa_pf_1\",\"species : kwoniella_pini_cbs_10737\",\"species : puccinia_striiformis\",\"species : trametes_cinnabarina\",\"species : laetiporus_sulphureus_93_53\",\"species : schizopora_paradoxa\",\"species : peniophora_sp_cont\",\"species : sistotremastrum_suecicum_hhb10207_ss_3\",\"species : cryptococcus_gattii_wm276\",\"species : paxillus_involutus_atcc_200175\",\"species : paxillus_rubicundulus_ve08_2h10\",\"species : termitomyces_sp_j132\",\"species : daedalea_quercina_l_15889\",\"species : moesziomyces_aphidis_dsm_70725\",\"species : kwoniella_mangroviensis_cbs_8886\",\"species : sistotremastrum_niveocremeum_hhb9708\",\"species : mixia_osmundae_iam_14324\",\"species : amanita_muscaria_koide_bx008\",\"species : cylindrobasidium_torrendii_fp15055_ss_10\",\"species : serendipita_indica_dsm_11827\",\"species : sporisorium_reilianum\",\"species : microbotryum_violaceum\",\"species : trichosporon_asahii_var_asahii_cbs_8904\",\"species : cutaneotrichosporon_oleaginosus\",\"species : cryptococcus_gattii_ca1873\",\"species : pseudozyma_hubeiensis_sy62\",\"species : puccinia_graminis\",\"species : calocera_cornea_hhb12733\",\"species : edhazardia_aedis_usnm_41457\",\"species : conidiobolus_coronatus_nrrl_28638\",\"species : phycomyces_blakesleeanus_nrrl_1555_\",\"species : allomyces_macrogynus_atcc_38327\",\"species : mucor_ambiguus\",\"species : mucor_circinelloides_f_circinelloides_1006phl\",\"species : mortierella_elongata_ag_77\",\"species : parasitella_parasitica\",\"species : spizellomyces_punctatus_daom_br117\",\"species : absidia_glauca\",\"species : rhizopus_delemar_ra_99_880\",\"species : lichtheimia_corymbifera_jmrc_fsu_9682\",\"species : absidia_glauca\",\"species : choanephora_cucurbitarum\",\"species : batrachochytrium_dendrobatidis_jam81\",\"species : allomyces_macrogynus_atcc_38327\",\"species : lichtheimia_ramosa\"],\"x\":{\"__ndarray__\":\"zIf6wOyKp76EF8K+IaYPwS0M3r9Y4znApgPxwD6ePsCYl4o/uR0CwVn7BcGTtZq/DkO1wOPvrsA86WxAwezPwLP4/r/fVBXAaeFqv2r3KMCvJP/AkcFuwOi+ZD9hw0ZAlMWuwKKTtb+6PQjAC+ewP/o7N8Ar3fM/7q4TwF7YCkAEBOHAC1onPnEyisCmo5XA6BmGwPIIc0BZX53AjP6AwOmmvz+O5YfAHz7FQOFUqL/KAlG/hMs9v0NMVsAfI+bA9GArQcRJIMCDVWZAHh48wAT1MEAK/F6/CQ+1wKlfK0EJD7XA5FdtP6pAcD+uZxbBT0U+P5wZJcFZtZO/EDSgQF0ZDkBnb/lA0giBvv/Ow0AAYO/AaUvvwLlqjj9KMTc/8VfwvxD2oz97myNAmbPYwLYPBT3TNwpArjcmwH+Ukb6cHzJAeQaFPztQuMDRBZa/At2BQFEPRMCI5pRAbMmFQMhx6L+GQvo/47EnQD1rEkHUNYLAXW8kQP0Qrr8pjJDAik+fQG2IYz/nK45AIiKAwI0NvUACJfG/iTYJwI5QMr4D1LBApAChQHSkPkByM4LAuBWawBwz47297z5A8xJAwEsxo0BWM9q/4vSQQNhpjz8F94tAuqRNwM1JacB1oSbAj/4eQIJaykCkm5VAuXDvQPakAMDaS/Q+CXUhQOL3A0AlTeG/pfm5QMuFQ8BEwoLA+PgZwGa8xL/Vs5C+tftXwMmJ1T9SXH/AMLUxvzKR9kDTRq3ACLaNv8Q9lr9v3Ks9nQZBQH6vQUDKR9q+fkLEwCVVkcCxd4BAtr8hwAIZO8DuOTpAbuUAQA82isCs10HAm5qGv59m+7+NL1JA1+atwFIep0DWXEvAa6+TQDX55L7iOTRACuY0QFzkKsBOD1nArlDSQPDPpD9sfgbAndWPQPtXEUBXqd9AbUzAP1Z0okCH0x8/rhrWP3HNNz/4lBNB4WzpvoIEAD9UNfa/iRSAQEfSGcAuork/JGe8vnan3UAvtq9AHQ4LwYxaA0CqyNi9adOxQBnQQMAwKQxAlIdrQEAMO8DgSP6/G53YPiwDAMHWYhU/niRAQKGFu8DawvI/MHfxQGMO2UA+cNJAHsSqwAReNkBWtto/kPFUwMQ2gL+/acVAW2jsvBtw/EAn6jjAGugEQS06uECYDiDBumQpPxMI70D9XAVBBbwIQStssUDo379A5cj5QKlVBsBPYwhBd9kwwFbOQsBKdDjAOy4BwZCR3kCrR4M+qdKRQOvY+z8MRHNAxOsmwENn5sBAFizADG5IvuMB5UDDwBC/On5GvsDEiT0vsz/AVOWiQMjNpkDAsbrA+q0rQKEPaMDx1QXBAZZfQL6tiD/NCdxASF/RwDzD10Ci32TAbXBHQBEnDj+Qb52/qKU7wPfnKcAv11s+9x5zP+yUF0FNouO/OncawdYhJkB+ET5AmnWeQOU4EcBYwMpAjnuGQKQb/sBBAGw/TwdswM6eEkCgRxzBowzCP29MUMA6RQVA\",\"dtype\":\"float32\",\"shape\":[282]},\"y\":{\"__ndarray__\":\"csjgwN1vbkAtF4lA0/QZwIxAzsBRxJzAkeKHwB8uib9nero/q7vxPXHoE0DxHHnAgTEFQYTeCUGzAmNASo6OwOXcHkH8aLbAfAaxwBsv/r9MoHzA3//2v6z3uUAGnJ5AfU8IwfOUysB8toxAGiilwG9mosDl1DdAXaWpwIP/k76VptC+XGyXPpc9t79t26DAd5HGwAHFBz8wLcPArCKZvqAXwb/qh6m/V653v2L40UBrNN3AZ8mdPzNnDkGtLo7AOtkMQP2w4MA138rAKJLHwGR/D0BkxcpAQE0EwXHWDEBATQTBjWf+wNV7zcAw9F/AQ//swJHJOsDbgBNAFlO9wPlsN0GUtJ1AWiMJQX32F0DVA3rAt/Osv/Xc+sBxqe/ARNTWwDqUn8BYHwLBLFGOwG8JqcCkxwvAaPPQwEui2r8Ie9u+bA5uwHEtdT91WJ+/pGF/QCeIicCmVB5AUcy5QNz9fUBNfipAqP4BwaIun0Cgb9q/6iz3QCpNp8Af0KO/gD0UQAmBkL9U6Rc+5muVQJnYtb8mRUtA8UaHwA+0jsCXNJU/sg/zPhVAKsC/edq/SkqXwHfdAUHBRHLA94tiQCltBkG+LD0/ZwatQBZCBsC0D6xAHEt9wB7BscBkAJHAsYT2QCgQm0CSn8jA6slWQH/YscAtSv6/akEAQTSsEkBhlkE/Z7/Evx9SgMCDS5hAVTbJwLquHT9yk5HAhReyPgCwg0DyD6vAi64wwLpze0BYCbY/UHE0wOGde8AoWkHAzgiJQAQob8CoNBdAZOhIP7Tjor+nIiXAvfDCvyMSs8CgzftA9zUTwLbKtb8KSLzAFkYAQAEmt8Cjz1bACn5ZwBckwr9WCApAETJHQCvxQ8CyBvlAgaj3QMzEdsB8+FHAQd6/QMWiwECmH4FAOd8iwLbXEEGKPmC+R9kEQQBMHEFdZYc/Y+3oQKZRKUH/nqRAL/EoQQvyKkE5BiFBJCTrQM9Wv8BQpWA83LUXwGjEqUC5+9G/i+WMvtxqOD/7KatA362hwAWX1ECbrttAPOoOQWXzy8C8LrbAd0Iuv/0gTsCYpALAvf5Tvz7z9kA45Ii9SWt3QGQuB0FJI0M/Df9EwNAm6j5bKwPBX3jHQF6CJUFuhPC/gxe3v/HZy0CKNLjAN1kUQKu0hEDjRkzAnpgMQc4bCcDn5tpAsr4Rvtk/osAKMCFANT+rQBxczsB5BB2+1FbMP002xMArXB1BNQghwOoEqj4hn6xANAkXQWePtT89nOw/DCupwHW1TkACnAPBO+OFvnO6REBDIeRAnRPzv3HiIEBxH9RA2/wCQSLa70A5vvhAtsmWQFS+EcAi7hRAuksuP37Ra0A2ugZBlhITPwpItkC8BfTAr5QyQGrp68B+QL3ACXTTQE6LKMBoQ+dA6nEcQUV+l0B3OJ7AW+Ksv1uyAMHmhKc/qd13P71IK7/kKJTAtNoYQSfvPsBHAd6+TRbAQIyEP0CdT1XAQS0LwSurc8BjH6TA\",\"dtype\":\"float32\",\"shape\":[282]}}},\"id\":\"f31cee47-9249-4853-97b6-49b169d112a6\",\"type\":\"ColumnDataSource\"},{\"attributes\":{\"callback\":null},\"id\":\"97dcdef3-6806-465e-90b1-98f1a2c1042e\",\"type\":\"DataRange1d\"},{\"attributes\":{},\"id\":\"5394b1b9-4fbc-4dcf-8162-f213deab46b0\",\"type\":\"BasicTickFormatter\"},{\"attributes\":{},\"id\":\"8d5985a2-014a-4310-aa0d-2e3ff83fd768\",\"type\":\"SaveTool\"},{\"attributes\":{},\"id\":\"8e408bd8-019c-463b-a92d-e8f0cfc30a79\",\"type\":\"BasicTicker\"},{\"attributes\":{},\"id\":\"ce7f677b-9703-4886-95cb-74b4945625b2\",\"type\":\"BasicTickFormatter\"},{\"attributes\":{\"source\":{\"id\":\"f31cee47-9249-4853-97b6-49b169d112a6\",\"type\":\"ColumnDataSource\"}},\"id\":\"148bb750-125c-4eda-ab24-24426e58efc9\",\"type\":\"CDSView\"},{\"attributes\":{\"plot\":null,\"text\":\"T-sne of homologous gene X for each species\"},\"id\":\"b166d8f3-a22c-4ddf-932b-a2b68dceb017\",\"type\":\"Title\"},{\"attributes\":{},\"id\":\"24fd07b2-8b9c-4dad-9fe5-7d3a92781d0e\",\"type\":\"BasicTicker\"},{\"attributes\":{\"fill_alpha\":{\"value\":0.1},\"fill_color\":{\"value\":\"#1f77b4\"},\"line_alpha\":{\"value\":0.1},\"line_color\":{\"value\":\"#1f77b4\"},\"size\":{\"units\":\"screen\",\"value\":10},\"x\":{\"field\":\"x\"},\"y\":{\"field\":\"y\"}},\"id\":\"48e0f690-0c04-4f47-b504-21c41ada54b1\",\"type\":\"Circle\"},{\"attributes\":{\"dimension\":1,\"plot\":{\"id\":\"b89f9156-a85b-4418-ad9c-e3f3d5d96f02\",\"subtype\":\"Figure\",\"type\":\"Plot\"},\"ticker\":{\"id\":\"24fd07b2-8b9c-4dad-9fe5-7d3a92781d0e\",\"type\":\"BasicTicker\"}},\"id\":\"72ceefb5-43b1-49e7-9dca-523bdb6ed3a8\",\"type\":\"Grid\"},{\"attributes\":{},\"id\":\"c102ad86-d881-4c89-bc6c-121e3023fdb2\",\"type\":\"LinearScale\"}],\"root_ids\":[\"b89f9156-a85b-4418-ad9c-e3f3d5d96f02\"]},\"title\":\"Bokeh Application\",\"version\":\"0.12.10\"}};\n",
       "    var render_items = [{\"docid\":\"f62d2097-6893-4018-be60-c866019c10ae\",\"elementid\":\"ce718440-cd0b-4f71-bc9c-d4193eabfc60\",\"modelid\":\"b89f9156-a85b-4418-ad9c-e3f3d5d96f02\"}];\n",
       "\n",
       "    root.Bokeh.embed.embed_items(docs_json, render_items);\n",
       "  }\n",
       "\n",
       "  if (root.Bokeh !== undefined) {\n",
       "    embed_document(root);\n",
       "  } else {\n",
       "    var attempts = 0;\n",
       "    var timer = setInterval(function(root) {\n",
       "      if (root.Bokeh !== undefined) {\n",
       "        embed_document(root);\n",
       "        clearInterval(timer);\n",
       "      }\n",
       "      attempts++;\n",
       "      if (attempts > 100) {\n",
       "        console.log(\"Bokeh: ERROR: Unable to embed document because BokehJS library is missing\")\n",
       "        clearInterval(timer);\n",
       "      }\n",
       "    }, 10, root)\n",
       "  }\n",
       "})(window);"
      ],
      "application/vnd.bokehjs_exec.v0+json": ""
     },
     "metadata": {
      "application/vnd.bokehjs_exec.v0+json": {
       "id": "b89f9156-a85b-4418-ad9c-e3f3d5d96f02"
      }
     },
     "output_type": "display_data"
    }
   ],
   "source": [
    "pi.bokeplot(val1,species)"
   ]
  },
  {
   "cell_type": "code",
   "execution_count": null,
   "metadata": {},
   "outputs": [],
   "source": []
  }
 ],
 "metadata": {
  "kernelspec": {
   "display_name": "Python 2",
   "language": "python",
   "name": "python2"
  },
  "language_info": {
   "codemirror_mode": {
    "name": "ipython",
    "version": 2
   },
   "file_extension": ".py",
   "mimetype": "text/x-python",
   "name": "python",
   "nbconvert_exporter": "python",
   "pygments_lexer": "ipython2",
   "version": "2.7.14"
  }
 },
 "nbformat": 4,
 "nbformat_minor": 2
}
