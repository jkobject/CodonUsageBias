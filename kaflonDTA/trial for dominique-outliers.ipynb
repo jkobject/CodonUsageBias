{
 "cells": [
  {
   "cell_type": "markdown",
   "metadata": {},
   "source": [
    "## outliers\n",
    "\n",
    "Are the badfits concentrated in nonlinfit5? (I think they are bnut I have \n",
    "not checked numbers).\n",
    "\n",
    "Are they over-represented in some species/amino acids? Which ones?"
   ]
  },
  {
   "cell_type": "code",
   "execution_count": 2,
   "metadata": {},
   "outputs": [],
   "source": [
    "import numpy as np\n",
    "import pandas as pd\n",
    "from matplotlib.pyplot import * "
   ]
  },
  {
   "cell_type": "markdown",
   "metadata": {},
   "source": [
    "##### so we can see that it is almost all species in this case."
   ]
  },
  {
   "cell_type": "code",
   "execution_count": 41,
   "metadata": {
    "scrolled": true
   },
   "outputs": [
    {
     "name": "stdout",
     "output_type": "stream",
     "text": [
      "5 141\n",
      "6 141\n",
      "7 142\n",
      "8 142\n",
      "9 140\n",
      "10 127\n",
      "11 87\n",
      "12 64\n",
      "13 49\n",
      "14 38\n",
      "15 20\n"
     ]
    }
   ],
   "source": [
    "species = []\n",
    "amino = []\n",
    "for i in range(5,16):\n",
    "    datatot = pd.read_csv('parameterFitsProtists/nonlinfit'+str(i)+'.txt',header=None)\n",
    "    datatot = datatot[datatot[4] >0.00999]\n",
    "    datatot = datatot[datatot[5] >0.00999]\n",
    "    amino.append(datatot[1].values.tolist())\n",
    "    val = list(set(datatot[0].values.tolist()))\n",
    "    val.sort()\n",
    "    species.append(val)\n",
    "    print i, len(val)"
   ]
  },
  {
   "cell_type": "code",
   "execution_count": 42,
   "metadata": {},
   "outputs": [
    {
     "data": {
      "text/plain": [
       "143"
      ]
     },
     "execution_count": 42,
     "metadata": {},
     "output_type": "execute_result"
    }
   ],
   "source": [
    "datatot = pd.read_csv('parameterFitsProtists/nonlinfit15.txt',header=None)\n",
    "datatot[0].values[-1]"
   ]
  },
  {
   "cell_type": "code",
   "execution_count": 43,
   "metadata": {},
   "outputs": [
    {
     "data": {
      "text/plain": [
       "[10,\n",
       " 19,\n",
       " 21,\n",
       " 30,\n",
       " 31,\n",
       " 32,\n",
       " 34,\n",
       " 35,\n",
       " 37,\n",
       " 40,\n",
       " 48,\n",
       " 72,\n",
       " 80,\n",
       " 85,\n",
       " 86,\n",
       " 88,\n",
       " 102,\n",
       " 107,\n",
       " 108,\n",
       " 109]"
      ]
     },
     "execution_count": 43,
     "metadata": {},
     "output_type": "execute_result"
    }
   ],
   "source": [
    "species[-1]"
   ]
  },
  {
   "cell_type": "code",
   "execution_count": 44,
   "metadata": {},
   "outputs": [
    {
     "name": "stdout",
     "output_type": "stream",
     "text": [
      " H  73 70 71 71 60 36 18 8 1 0 0 37\n",
      " F  53 51 50 43 39 21 7 3 1 0 0 24\n",
      " Y  72 71 71 71 63 57 29 12 7 0 1 41\n",
      " C  77 76 73 72 62 31 19 9 2 0 0 38\n",
      " N  75 71 76 70 59 48 18 9 4 0 1 39\n",
      " D  66 61 64 57 55 32 9 2 2 0 0 31\n",
      " E  75 78 77 74 70 60 48 43 33 32 8 54\n",
      " Q  76 76 75 71 66 60 48 40 35 30 17 54\n"
     ]
    }
   ],
   "source": [
    "ami = [' H ',\n",
    " ' F ',\n",
    " ' Y ',\n",
    " ' C ',\n",
    " ' N ',\n",
    " ' D ',\n",
    " ' E ',\n",
    " ' Q ']\n",
    "for a in ami:\n",
    "    tot = 0\n",
    "    print a,\n",
    "    for i in range(0,16-5):\n",
    "        print amino[i].count(a),\n",
    "        tot += amino[i].count(a)\n",
    "    print tot/11"
   ]
  },
  {
   "cell_type": "code",
   "execution_count": 5,
   "metadata": {},
   "outputs": [
    {
     "name": "stdout",
     "output_type": "stream",
     "text": [
      "5 344\n",
      "6 404\n",
      "7 420\n",
      "8 420\n",
      "9 435\n",
      "10 434\n",
      "11 440\n",
      "12 440\n",
      "13 439\n",
      "14 435\n",
      "15 440\n"
     ]
    }
   ],
   "source": [
    "species = []\n",
    "amino = []\n",
    "for i in range(5,16):\n",
    "    datatot = pd.read_csv('parameterFitsBacteria/nonlinfit'+str(i)+'.txt',header=None)\n",
    "    datatot = datatot[datatot[4] <0.00999]\n",
    "    datatot = datatot[datatot[5] <0.00999]\n",
    "    amino.append(datatot[1].values.tolist())\n",
    "    val = list(set(datatot[0].values.tolist()))\n",
    "    val.sort()\n",
    "    species.append(val)\n",
    "    print i, len(val)"
   ]
  },
  {
   "cell_type": "code",
   "execution_count": 60,
   "metadata": {},
   "outputs": [
    {
     "data": {
      "text/plain": [
       "442"
      ]
     },
     "execution_count": 60,
     "metadata": {},
     "output_type": "execute_result"
    }
   ],
   "source": [
    "datatot = pd.read_csv('parameterFitsBacteria/nonlinfit15.txt',header=None)\n",
    "datatot[0].values[-1]"
   ]
  },
  {
   "cell_type": "code",
   "execution_count": 61,
   "metadata": {},
   "outputs": [
    {
     "data": {
      "text/plain": [
       "[1,\n",
       " 2,\n",
       " 3,\n",
       " 7,\n",
       " 11,\n",
       " 15,\n",
       " 28,\n",
       " 30,\n",
       " 32,\n",
       " 37,\n",
       " 46,\n",
       " 67,\n",
       " 70,\n",
       " 71,\n",
       " 78,\n",
       " 79,\n",
       " 101,\n",
       " 102,\n",
       " 110,\n",
       " 114,\n",
       " 119,\n",
       " 120,\n",
       " 122,\n",
       " 123,\n",
       " 124,\n",
       " 138,\n",
       " 146,\n",
       " 151,\n",
       " 152,\n",
       " 153,\n",
       " 154,\n",
       " 159,\n",
       " 160,\n",
       " 162,\n",
       " 163,\n",
       " 164,\n",
       " 165,\n",
       " 166,\n",
       " 167,\n",
       " 168,\n",
       " 169,\n",
       " 171,\n",
       " 172,\n",
       " 175,\n",
       " 178,\n",
       " 195,\n",
       " 196,\n",
       " 224,\n",
       " 228,\n",
       " 229,\n",
       " 230,\n",
       " 231,\n",
       " 237,\n",
       " 246,\n",
       " 247,\n",
       " 248,\n",
       " 250,\n",
       " 251,\n",
       " 252,\n",
       " 253,\n",
       " 255,\n",
       " 256,\n",
       " 257,\n",
       " 258,\n",
       " 259,\n",
       " 260,\n",
       " 261,\n",
       " 262,\n",
       " 263,\n",
       " 264,\n",
       " 274,\n",
       " 276,\n",
       " 279,\n",
       " 292,\n",
       " 293,\n",
       " 309,\n",
       " 311,\n",
       " 339,\n",
       " 340,\n",
       " 341,\n",
       " 342,\n",
       " 343,\n",
       " 344,\n",
       " 345,\n",
       " 346,\n",
       " 347,\n",
       " 348,\n",
       " 349,\n",
       " 350,\n",
       " 351,\n",
       " 365,\n",
       " 375,\n",
       " 377,\n",
       " 387,\n",
       " 406,\n",
       " 412,\n",
       " 414,\n",
       " 415,\n",
       " 416,\n",
       " 417,\n",
       " 418,\n",
       " 419,\n",
       " 420,\n",
       " 422,\n",
       " 423,\n",
       " 425,\n",
       " 426,\n",
       " 427,\n",
       " 428,\n",
       " 430,\n",
       " 433,\n",
       " 434,\n",
       " 435,\n",
       " 436,\n",
       " 437]"
      ]
     },
     "execution_count": 61,
     "metadata": {},
     "output_type": "execute_result"
    }
   ],
   "source": [
    "species[-1]"
   ]
  },
  {
   "cell_type": "code",
   "execution_count": 62,
   "metadata": {},
   "outputs": [
    {
     "name": "stdout",
     "output_type": "stream",
     "text": [
      "155 156 161 146 129 111 66 50 36 32 34 97\n",
      "157 148 156 153 121 90 54 31 19 14 7 86\n",
      "167 158 164 152 138 106 85 54 30 26 21 100\n",
      "179 180 185 170 148 130 98 66 45 41 22 114\n",
      "188 188 181 167 146 95 62 26 13 7 3 97\n",
      "124 128 121 108 89 70 45 34 26 18 10 70\n",
      "300 299 309 271 256 190 152 102 80 49 30 185\n",
      "196 205 189 193 173 141 101 68 49 40 28 125\n"
     ]
    }
   ],
   "source": [
    "for a in ami:\n",
    "    tot = 0\n",
    "    print a,\n",
    "    for i in range(0,16-5):\n",
    "        print amino[i].count(a),\n",
    "        tot += amino[i].count(a)\n",
    "    print tot/11"
   ]
  },
  {
   "cell_type": "code",
   "execution_count": 63,
   "metadata": {},
   "outputs": [
    {
     "name": "stdout",
     "output_type": "stream",
     "text": [
      "5 462\n",
      "6 462\n",
      "7 459\n",
      "8 457\n",
      "9 430\n",
      "10 344\n",
      "11 183\n",
      "12 87\n",
      "13 30\n",
      "14 10\n",
      "15 5\n"
     ]
    }
   ],
   "source": [
    "species = []\n",
    "amino = []\n",
    "for i in range(5,16):\n",
    "    datatot = pd.read_csv('parameterfitsFungi/nonlinfit'+str(i)+'.txt',header=None)\n",
    "    datatot = datatot[datatot[4] >0.00999]\n",
    "    datatot = datatot[datatot[5] >0.00999]\n",
    "    amino.append(datatot[1].values.tolist())\n",
    "    val = list(set(datatot[0].values.tolist()))\n",
    "    val.sort()\n",
    "    species.append(val)\n",
    "    print i, len(val)"
   ]
  },
  {
   "cell_type": "code",
   "execution_count": 64,
   "metadata": {},
   "outputs": [
    {
     "data": {
      "text/plain": [
       "462"
      ]
     },
     "execution_count": 64,
     "metadata": {},
     "output_type": "execute_result"
    }
   ],
   "source": [
    "datatot = pd.read_csv('parameterfitsFungi/nonlinfit15.txt',header=None)\n",
    "datatot[0].values[-1]"
   ]
  },
  {
   "cell_type": "code",
   "execution_count": 65,
   "metadata": {},
   "outputs": [
    {
     "data": {
      "text/plain": [
       "[5,\n",
       " 9,\n",
       " 57,\n",
       " 62,\n",
       " 67,\n",
       " 89,\n",
       " 122,\n",
       " 139,\n",
       " 152,\n",
       " 180,\n",
       " 181,\n",
       " 240,\n",
       " 241,\n",
       " 252,\n",
       " 255,\n",
       " 261,\n",
       " 263,\n",
       " 271,\n",
       " 309,\n",
       " 353,\n",
       " 354,\n",
       " 355,\n",
       " 388,\n",
       " 392,\n",
       " 394,\n",
       " 407,\n",
       " 409,\n",
       " 422,\n",
       " 454,\n",
       " 455]"
      ]
     },
     "execution_count": 65,
     "metadata": {},
     "output_type": "execute_result"
    }
   ],
   "source": [
    "species[-3]"
   ]
  },
  {
   "cell_type": "code",
   "execution_count": 39,
   "metadata": {},
   "outputs": [
    {
     "ename": "NameError",
     "evalue": "name 'ami' is not defined",
     "output_type": "error",
     "traceback": [
      "\u001b[0;31m---------------------------------------------------------------------------\u001b[0m",
      "\u001b[0;31mNameError\u001b[0m                                 Traceback (most recent call last)",
      "\u001b[0;32m<ipython-input-39-e9810cf66da8>\u001b[0m in \u001b[0;36m<module>\u001b[0;34m()\u001b[0m\n\u001b[0;32m----> 1\u001b[0;31m \u001b[0;32mfor\u001b[0m \u001b[0ma\u001b[0m \u001b[0;32min\u001b[0m \u001b[0mami\u001b[0m\u001b[0;34m:\u001b[0m\u001b[0;34m\u001b[0m\u001b[0m\n\u001b[0m\u001b[1;32m      2\u001b[0m     \u001b[0mtot\u001b[0m \u001b[0;34m=\u001b[0m \u001b[0;36m0\u001b[0m\u001b[0;34m\u001b[0m\u001b[0m\n\u001b[1;32m      3\u001b[0m     \u001b[0;32mprint\u001b[0m \u001b[0ma\u001b[0m\u001b[0;34m,\u001b[0m\u001b[0;34m\u001b[0m\u001b[0m\n\u001b[1;32m      4\u001b[0m     \u001b[0;32mfor\u001b[0m \u001b[0mi\u001b[0m \u001b[0;32min\u001b[0m \u001b[0mrange\u001b[0m\u001b[0;34m(\u001b[0m\u001b[0;36m0\u001b[0m\u001b[0;34m,\u001b[0m\u001b[0;36m16\u001b[0m\u001b[0;34m-\u001b[0m\u001b[0;36m5\u001b[0m\u001b[0;34m)\u001b[0m\u001b[0;34m:\u001b[0m\u001b[0;34m\u001b[0m\u001b[0m\n\u001b[1;32m      5\u001b[0m         \u001b[0;32mprint\u001b[0m \u001b[0mamino\u001b[0m\u001b[0;34m[\u001b[0m\u001b[0mi\u001b[0m\u001b[0;34m]\u001b[0m\u001b[0;34m.\u001b[0m\u001b[0mcount\u001b[0m\u001b[0;34m(\u001b[0m\u001b[0ma\u001b[0m\u001b[0;34m)\u001b[0m\u001b[0;34m,\u001b[0m\u001b[0;34m\u001b[0m\u001b[0m\n",
      "\u001b[0;31mNameError\u001b[0m: name 'ami' is not defined"
     ]
    }
   ],
   "source": [
    "for a in ami:\n",
    "    tot = 0\n",
    "    print a,\n",
    "    for i in range(0,16-5):\n",
    "        print amino[i].count(a),\n",
    "        tot += amino[i].count(a)\n",
    "    print tot/11"
   ]
  },
  {
   "cell_type": "code",
   "execution_count": 3,
   "metadata": {},
   "outputs": [],
   "source": [
    "import numpy as np \n",
    "import pandas as pd\n",
    "import pdb\n",
    "species = []\n",
    "output= []\n",
    "for j in range(5,16):\n",
    "    data = pd.read_csv('parameterFitsProtist/nonlinfit'+str(j)+'.txt',header=None)\n",
    "    data = data[data[4] >0.005]\n",
    "    data = data[data[5] >0.005]\n",
    "    temp = 0\n",
    "    i = 0\n",
    "    data = data.drop([4,5], axis=1)\n",
    "    arr = np.zeros((int(data[0][data.index[-1]]),9))\n",
    "    data = np.array(data)\n",
    "    ami = {' H ':0,\n",
    "     ' F ':1,\n",
    "     ' Y ':2,\n",
    "     ' C ':3,\n",
    "     ' N ':4,\n",
    "     ' D ':5,\n",
    "     ' E ':6,\n",
    "     ' Q ':7,\n",
    "     ' K ':8}\n",
    "    for dat in data:\n",
    "        arr[dat[0]-1,ami[dat[1]]]=dat[2:].mean()\n",
    "    randarr = np.zeros(arr.shape)\n",
    "    X = 2000\n",
    "    a= 0\n",
    "    for _ in range(X):\n",
    "        for z in range(arr.shape[1]):\n",
    "            ind = np.arange(len(arr))\n",
    "            np.random.shuffle(ind)\n",
    "            randarr[:,z] = arr[ind,z]\n",
    "        a += randarr.var(1).mean()/arr.var(1).mean()\n",
    "    output.append(a/X)"
   ]
  },
  {
   "cell_type": "code",
   "execution_count": 4,
   "metadata": {},
   "outputs": [
    {
     "data": {
      "text/plain": [
       "array([1.02051502, 1.0207608 , 1.03283616, 1.0258581 , 1.00162603,\n",
       "       1.01568195, 1.13315677, 1.01826207, 1.00058679, 1.00190512,\n",
       "       0.99997502])"
      ]
     },
     "execution_count": 4,
     "metadata": {},
     "output_type": "execute_result"
    }
   ],
   "source": [
    "np.array(output)"
   ]
  },
  {
   "cell_type": "code",
   "execution_count": 5,
   "metadata": {},
   "outputs": [
    {
     "data": {
      "text/plain": [
       "array([1.02051502, 1.0207608 , 1.03283616, 1.0258581 , 1.00162603,\n",
       "       1.01568195, 1.13315677, 1.01826207, 1.00058679, 1.00190512,\n",
       "       0.99997502])"
      ]
     },
     "execution_count": 5,
     "metadata": {},
     "output_type": "execute_result"
    }
   ],
   "source": [
    "np.array(output)"
   ]
  },
  {
   "cell_type": "code",
   "execution_count": 72,
   "metadata": {},
   "outputs": [
    {
     "data": {
      "text/plain": [
       "array([1.02019233, 1.02068173, 1.03285541, 1.02611382, 1.00214595,\n",
       "       1.01554268, 1.13305228, 1.018336  , 1.00088226, 1.00161433,\n",
       "       0.99995616])"
      ]
     },
     "execution_count": 72,
     "metadata": {},
     "output_type": "execute_result"
    }
   ],
   "source": [
    "np.array(output)"
   ]
  },
  {
   "cell_type": "code",
   "execution_count": 87,
   "metadata": {},
   "outputs": [
    {
     "data": {
      "image/png": "[encoded data removed]",
      "text/plain": [
       "<matplotlib.figure.Figure at 0x10ee093d0>"
      ]
     },
     "metadata": {},
     "output_type": "display_data"
    }
   ],
   "source": [
    "t = np.arange(5,16)\n",
    "fig = plt.figure()\n",
    "ax = fig.add_subplot(111)\n",
    "\n",
    "# red dashes, blue squares and green triangles\n",
    "val1= np.array([1.17956348, 1.17901964, 1.19207566, 1.23597676, 1.15577601,\n",
    "       1.18819707, 1.26624351, 1.0861765 , 1.22575641, 1.21916174,\n",
    "       1.25799049])-1\n",
    "val2= np.array([1.08048216, 1.1074706 , 1.11140645, 1.08808642, 1.09962937,\n",
    "       1.08881148, 1.12499903, 1.09766687, 1.09573855, 1.05802371,\n",
    "       1.06369299])-1\n",
    "val3= np.array([1.02019233, 1.02068173, 1.03285541, 1.02611382, 1.00214595,\n",
    "       1.01554268, 1.13305228, 1.018336  , 1.00088226, 1.00161433,\n",
    "       0.99995616])-1\n",
    "\n",
    "plt.plot(t,val1, 'r', t, val2, 'b', t, val3, 'g')\n",
    "ax.legend( ('fungi', 'bacterias', 'protists') )\n",
    "ax.set_ylabel('percentage variation')\n",
    "plt.savefig('other.png')"
   ]
  },
  {
   "cell_type": "code",
   "execution_count": 95,
   "metadata": {},
   "outputs": [
    {
     "data": {
      "image/png": "[encoded data removed]",
      "text/plain": [
       "<matplotlib.figure.Figure at 0x10f1cad50>"
      ]
     },
     "metadata": {},
     "output_type": "display_data"
    }
   ],
   "source": [
    "t = np.arange(5,16)\n",
    "fig = plt.figure()\n",
    "ax = fig.add_subplot(111)\n",
    "\n",
    "# red dashes, blue squares and green triangles\n",
    "val1=[73, 70, 71, 71, 60, 36, 18, 8,   1,   0,    0  ] \n",
    "val2=[53, 51, 50, 43, 39, 21, 7,    3,  1,   0,    0  ] \n",
    "val3=[72, 71, 71, 71, 63, 57, 29, 12, 7,   0,    1 ] \n",
    "val4=[77, 76, 73, 72, 62, 31, 19, 9,    2,   0,   0  ]\n",
    "val5=[75, 71, 76, 70, 59, 48, 18, 9,    4,   0,   1  ]\n",
    "val6=[66, 61, 64, 57, 55, 32, 9,   2,    2,   0,   0  ]\n",
    "val7=[75, 78, 77, 74, 70, 60, 48, 43, 33, 32, 8  ]\n",
    "val8=[76, 76, 75, 71, 66, 60, 48, 40, 35, 30, 17]\n",
    "\n",
    "plt.plot(t,val1, 'r', t, val2, 'b', t, val3, 'g',t,val4,\n",
    "         'peru',t,val5, 'y',t,val6, 'tan',t,val7, 'm',t,val8,'c')\n",
    "ax.legend( ('H', 'F', 'Y', 'C', 'N', 'D', 'E', 'Q', 'K') )\n",
    "ax.set_ylabel('number of outliers')\n",
    "plt.savefig('final.png')"
   ]
  },
  {
   "cell_type": "code",
   "execution_count": 82,
   "metadata": {},
   "outputs": [
    {
     "data": {
      "image/png": "[encoded data removed]",
      "text/plain": [
       "<matplotlib.figure.Figure at 0x10f5b1e90>"
      ]
     },
     "metadata": {},
     "output_type": "display_data"
    }
   ],
   "source": [
    "import numpy as np\n",
    "import matplotlib.pyplot as plt\n",
    "\n",
    "width = 0.27       # the width of the bars\n",
    "\n",
    "fig = plt.figure()\n",
    "ax = fig.add_subplot(111)\n",
    "\n",
    "yvals = [0.49149925, 0.42133549, 0.39870804, 0.51479137, 0.37454062,\n",
    "       0.56193927, 0.5185966 , 0.50760103, 0.49695957]\n",
    "zvals = [0.40892635, 0.44063824, 0.47652933, 0.11459811, 0.26852738,\n",
    "       0.53538685, 0.39985045, 0.40546089, 0.34087239]\n",
    "kvals = [0.39914111, 0.45937059, 0.32884257, 0.43792115, 0.37302038,\n",
    "       0.40810041, 0.33609258, 0.32956473, 0.37618372]\n",
    "\n",
    "ind = np.arange(len(yvals))  # the x locations for the groups\n",
    "\n",
    "rects1 = ax.bar(ind, yvals, width, color='r')\n",
    "rects2 = ax.bar(ind+width, zvals, width, color='g')\n",
    "rects3 = ax.bar(ind+width*2, kvals, width, color='b')\n",
    "\n",
    "ax.set_ylabel('averages')\n",
    "ax.set_xticks(ind+width)\n",
    "ax.set_xticklabels( (' H ',' F ',' Y ',' C ',' N ',' D ',' E ',' Q ',' K ') )\n",
    "ax.legend( (rects1[0], rects2[0], rects3[0]), ('fungi', 'bacterias', 'protists') )\n",
    "\n",
    "def autolabel(rects):\n",
    "    for rect in rects:\n",
    "        h = rect.get_height()\n",
    "        ax.text(rect.get_x()+rect.get_width()/2., 1.05*h, '%d'%int(h),\n",
    "                ha='center', va='bottom')\n",
    "plt.savefig('savefig.png')"
   ]
  },
  {
   "cell_type": "code",
   "execution_count": 79,
   "metadata": {},
   "outputs": [
    {
     "data": {
      "text/plain": [
       "<matplotlib.figure.Figure at 0x10faa9c10>"
      ]
     },
     "metadata": {},
     "output_type": "display_data"
    }
   ],
   "source": [
    "plt.savefig('sav.png')"
   ]
  },
  {
   "cell_type": "code",
   "execution_count": 75,
   "metadata": {},
   "outputs": [],
   "source": [
    "from scipy.spatial.distance import euclidean as eucli\n",
    "from scipy.spatial.distance import cityblock as man\n",
    "species = []\n",
    "amino = []\n",
    "da = []\n",
    "ami = {' H ':0,\n",
    "     ' F ':1,\n",
    "     ' Y ':2,\n",
    "     ' C ':3,\n",
    "     ' N ':4,\n",
    "     ' D ':5,\n",
    "     ' E ':6,\n",
    "     ' Q ':7,\n",
    "     ' K ':8}\n",
    "X = 462\n",
    "minv= 8\n",
    "datatot= pd.concat([pd.read_csv('parameterfitsFungi2/nonlinfit'+str(i)+'.txt',header=None) for i in range(minv,16)])\n",
    "datatot = datatot[datatot[4] <0.00999]\n",
    "datatot = datatot[datatot[5] <0.00999]\n",
    "data = datatot.drop([4,5], axis=1)\n",
    "data = np.array(data)\n",
    "arr = np.zeros((X,len(ami),16-minv))\n",
    "previ=-1\n",
    "j=0\n",
    "for line in data:\n",
    "    for i in range(X):\n",
    "        if line[0]==i+1:\n",
    "            for k,v in ami.iteritems():\n",
    "                if line[1] == k:\n",
    "                    arr[i,v,j] = line[2:].mean()#man(line[2],line[3])#eucli(line[2],line[3])\n",
    "                    break\n",
    "            break\n",
    "    if i-previ<0:\n",
    "        j+=1\n",
    "    previ=i"
   ]
  },
  {
   "cell_type": "code",
   "execution_count": 76,
   "metadata": {},
   "outputs": [],
   "source": [
    "arr = np.ma.masked_equal(arr,0);\n",
    "arr = arr.mean(2)"
   ]
  },
  {
   "cell_type": "code",
   "execution_count": 77,
   "metadata": {},
   "outputs": [
    {
     "data": {
      "text/plain": [
       "(462, 9)"
      ]
     },
     "execution_count": 77,
     "metadata": {},
     "output_type": "execute_result"
    }
   ],
   "source": [
    "arr.shape"
   ]
  },
  {
   "cell_type": "code",
   "execution_count": 78,
   "metadata": {},
   "outputs": [],
   "source": [
    "amiN= arr[:,4]\n",
    "amiD= arr[:,5]"
   ]
  },
  {
   "cell_type": "code",
   "execution_count": 79,
   "metadata": {},
   "outputs": [],
   "source": [
    "regN = np.array(amiN[np.logical_not(np.ma.getmask(amiN))])\n",
    "regD = np.array(amiD[np.logical_not(np.ma.getmask(amiD))])\n",
    "\n",
    "indN = np.argsort(regN)\n",
    "regN = regN[indN]\n",
    "indD = np.argsort(regD)\n",
    "regD = regD[indD]"
   ]
  },
  {
   "cell_type": "code",
   "execution_count": 80,
   "metadata": {},
   "outputs": [],
   "source": [
    "variationN = (np.array(arr.var(1))[np.logical_not(np.ma.getmask(amiN))])[indN]\n",
    "variationD = (np.array(arr.var(1))[np.logical_not(np.ma.getmask(amiD))])[indD]"
   ]
  },
  {
   "cell_type": "code",
   "execution_count": 81,
   "metadata": {},
   "outputs": [],
   "source": [
    "from matplotlib.pyplot import *"
   ]
  },
  {
   "cell_type": "code",
   "execution_count": 82,
   "metadata": {},
   "outputs": [
    {
     "data": {
      "image/png": "[encoded data removed]",
      "text/plain": [
       "<matplotlib.figure.Figure at 0x11650d1d0>"
      ]
     },
     "metadata": {},
     "output_type": "display_data"
    }
   ],
   "source": [
    "errorbar(y=regN, x=range(len(regN)),yerr= variationN/2,fmt='.')\n",
    "savefig(\"domN-oct.pdf\")"
   ]
  },
  {
   "cell_type": "code",
   "execution_count": 84,
   "metadata": {},
   "outputs": [
    {
     "data": {
      "text/html": [
       "\n",
       "    <div class=\"bk-root\">\n",
       "        <a href=\"https://bokeh.pydata.org\" target=\"_blank\" class=\"bk-logo bk-logo-small bk-logo-notebook\"></a>\n",
       "        <span id=\"7e27d7f0-e03d-4697-9df4-1828f3c71b73\">Loading BokehJS ...</span>\n",
       "    </div>"
      ]
     },
     "metadata": {},
     "output_type": "display_data"
    },
    {
     "data": {
      "application/javascript": [
       "\n",
       "(function(root) {\n",
       "  function now() {\n",
       "    return new Date();\n",
       "  }\n",
       "\n",
       "  var force = true;\n",
       "\n",
       "  if (typeof (root._bokeh_onload_callbacks) === \"undefined\" || force === true) {\n",
       "    root._bokeh_onload_callbacks = [];\n",
       "    root._bokeh_is_loading = undefined;\n",
       "  }\n",
       "\n",
       "  var JS_MIME_TYPE = 'application/javascript';\n",
       "  var HTML_MIME_TYPE = 'text/html';\n",
       "  var EXEC_MIME_TYPE = 'application/vnd.bokehjs_exec.v0+json';\n",
       "  var CLASS_NAME = 'output_bokeh rendered_html';\n",
       "\n",
       "  /**\n",
       "   * Render data to the DOM node\n",
       "   */\n",
       "  function render(props, node) {\n",
       "    var script = document.createElement(\"script\");\n",
       "    node.appendChild(script);\n",
       "  }\n",
       "\n",
       "  /**\n",
       "   * Handle when an output is cleared or removed\n",
       "   */\n",
       "  function handleClearOutput(event, handle) {\n",
       "    var cell = handle.cell;\n",
       "\n",
       "    var id = cell.output_area._bokeh_element_id;\n",
       "    var server_id = cell.output_area._bokeh_server_id;\n",
       "    // Clean up Bokeh references\n",
       "    if (id !== undefined) {\n",
       "      Bokeh.index[id].model.document.clear();\n",
       "      delete Bokeh.index[id];\n",
       "    }\n",
       "\n",
       "    if (server_id !== undefined) {\n",
       "      // Clean up Bokeh references\n",
       "      var cmd = \"from bokeh.io.state import curstate; print(curstate().uuid_to_server['\" + server_id + \"'].get_sessions()[0].document.roots[0]._id)\";\n",
       "      cell.notebook.kernel.execute(cmd, {\n",
       "        iopub: {\n",
       "          output: function(msg) {\n",
       "            var element_id = msg.content.text.trim();\n",
       "            Bokeh.index[element_id].model.document.clear();\n",
       "            delete Bokeh.index[element_id];\n",
       "          }\n",
       "        }\n",
       "      });\n",
       "      // Destroy server and session\n",
       "      var cmd = \"import bokeh.io.notebook as ion; ion.destroy_server('\" + server_id + \"')\";\n",
       "      cell.notebook.kernel.execute(cmd);\n",
       "    }\n",
       "  }\n",
       "\n",
       "  /**\n",
       "   * Handle when a new output is added\n",
       "   */\n",
       "  function handleAddOutput(event, handle) {\n",
       "    var output_area = handle.output_area;\n",
       "    var output = handle.output;\n",
       "\n",
       "    // limit handleAddOutput to display_data with EXEC_MIME_TYPE content only\n",
       "    if ((output.output_type != \"display_data\") || (!output.data.hasOwnProperty(EXEC_MIME_TYPE))) {\n",
       "      return\n",
       "    }\n",
       "\n",
       "    var toinsert = output_area.element.find(`.${CLASS_NAME.split(' ')[0]}`);\n",
       "\n",
       "    if (output.metadata[EXEC_MIME_TYPE][\"id\"] !== undefined) {\n",
       "      toinsert[0].firstChild.textContent = output.data[JS_MIME_TYPE];\n",
       "      // store reference to embed id on output_area\n",
       "      output_area._bokeh_element_id = output.metadata[EXEC_MIME_TYPE][\"id\"];\n",
       "    }\n",
       "    if (output.metadata[EXEC_MIME_TYPE][\"server_id\"] !== undefined) {\n",
       "      var bk_div = document.createElement(\"div\");\n",
       "      bk_div.innerHTML = output.data[HTML_MIME_TYPE];\n",
       "      var script_attrs = bk_div.children[0].attributes;\n",
       "      for (var i = 0; i < script_attrs.length; i++) {\n",
       "        toinsert[0].firstChild.setAttribute(script_attrs[i].name, script_attrs[i].value);\n",
       "      }\n",
       "      // store reference to server id on output_area\n",
       "      output_area._bokeh_server_id = output.metadata[EXEC_MIME_TYPE][\"server_id\"];\n",
       "    }\n",
       "  }\n",
       "\n",
       "  function register_renderer(events, OutputArea) {\n",
       "\n",
       "    function append_mime(data, metadata, element) {\n",
       "      // create a DOM node to render to\n",
       "      var toinsert = this.create_output_subarea(\n",
       "        metadata,\n",
       "        CLASS_NAME,\n",
       "        EXEC_MIME_TYPE\n",
       "      );\n",
       "      this.keyboard_manager.register_events(toinsert);\n",
       "      // Render to node\n",
       "      var props = {data: data, metadata: metadata[EXEC_MIME_TYPE]};\n",
       "      render(props, toinsert[0]);\n",
       "      element.append(toinsert);\n",
       "      return toinsert\n",
       "    }\n",
       "\n",
       "    /* Handle when an output is cleared or removed */\n",
       "    events.on('clear_output.CodeCell', handleClearOutput);\n",
       "    events.on('delete.Cell', handleClearOutput);\n",
       "\n",
       "    /* Handle when a new output is added */\n",
       "    events.on('output_added.OutputArea', handleAddOutput);\n",
       "\n",
       "    /**\n",
       "     * Register the mime type and append_mime function with output_area\n",
       "     */\n",
       "    OutputArea.prototype.register_mime_type(EXEC_MIME_TYPE, append_mime, {\n",
       "      /* Is output safe? */\n",
       "      safe: true,\n",
       "      /* Index of renderer in `output_area.display_order` */\n",
       "      index: 0\n",
       "    });\n",
       "  }\n",
       "\n",
       "  // register the mime type if in Jupyter Notebook environment and previously unregistered\n",
       "  if (root.Jupyter !== undefined) {\n",
       "    var events = require('base/js/events');\n",
       "    var OutputArea = require('notebook/js/outputarea').OutputArea;\n",
       "\n",
       "    if (OutputArea.prototype.mime_types().indexOf(EXEC_MIME_TYPE) == -1) {\n",
       "      register_renderer(events, OutputArea);\n",
       "    }\n",
       "  }\n",
       "\n",
       "  \n",
       "  if (typeof (root._bokeh_timeout) === \"undefined\" || force === true) {\n",
       "    root._bokeh_timeout = Date.now() + 5000;\n",
       "    root._bokeh_failed_load = false;\n",
       "  }\n",
       "\n",
       "  var NB_LOAD_WARNING = {'data': {'text/html':\n",
       "     \"<div style='background-color: #fdd'>\\n\"+\n",
       "     \"<p>\\n\"+\n",
       "     \"BokehJS does not appear to have successfully loaded. If loading BokehJS from CDN, this \\n\"+\n",
       "     \"may be due to a slow or bad network connection. Possible fixes:\\n\"+\n",
       "     \"</p>\\n\"+\n",
       "     \"<ul>\\n\"+\n",
       "     \"<li>re-rerun `output_notebook()` to attempt to load from CDN again, or</li>\\n\"+\n",
       "     \"<li>use INLINE resources instead, as so:</li>\\n\"+\n",
       "     \"</ul>\\n\"+\n",
       "     \"<code>\\n\"+\n",
       "     \"from bokeh.resources import INLINE\\n\"+\n",
       "     \"output_notebook(resources=INLINE)\\n\"+\n",
       "     \"</code>\\n\"+\n",
       "     \"</div>\"}};\n",
       "\n",
       "  function display_loaded() {\n",
       "    var el = document.getElementById(\"7e27d7f0-e03d-4697-9df4-1828f3c71b73\");\n",
       "    if (el != null) {\n",
       "      el.textContent = \"BokehJS is loading...\";\n",
       "    }\n",
       "    if (root.Bokeh !== undefined) {\n",
       "      if (el != null) {\n",
       "        el.textContent = \"BokehJS \" + root.Bokeh.version + \" successfully loaded.\";\n",
       "      }\n",
       "    } else if (Date.now() < root._bokeh_timeout) {\n",
       "      setTimeout(display_loaded, 100)\n",
       "    }\n",
       "  }\n",
       "\n",
       "\n",
       "  function run_callbacks() {\n",
       "    try {\n",
       "      root._bokeh_onload_callbacks.forEach(function(callback) { callback() });\n",
       "    }\n",
       "    finally {\n",
       "      delete root._bokeh_onload_callbacks\n",
       "    }\n",
       "    console.info(\"Bokeh: all callbacks have finished\");\n",
       "  }\n",
       "\n",
       "  function load_libs(js_urls, callback) {\n",
       "    root._bokeh_onload_callbacks.push(callback);\n",
       "    if (root._bokeh_is_loading > 0) {\n",
       "      console.log(\"Bokeh: BokehJS is being loaded, scheduling callback at\", now());\n",
       "      return null;\n",
       "    }\n",
       "    if (js_urls == null || js_urls.length === 0) {\n",
       "      run_callbacks();\n",
       "      return null;\n",
       "    }\n",
       "    console.log(\"Bokeh: BokehJS not loaded, scheduling load and callback at\", now());\n",
       "    root._bokeh_is_loading = js_urls.length;\n",
       "    for (var i = 0; i < js_urls.length; i++) {\n",
       "      var url = js_urls[i];\n",
       "      var s = document.createElement('script');\n",
       "      s.src = url;\n",
       "      s.async = false;\n",
       "      s.onreadystatechange = s.onload = function() {\n",
       "        root._bokeh_is_loading--;\n",
       "        if (root._bokeh_is_loading === 0) {\n",
       "          console.log(\"Bokeh: all BokehJS libraries loaded\");\n",
       "          run_callbacks()\n",
       "        }\n",
       "      };\n",
       "      s.onerror = function() {\n",
       "        console.warn(\"failed to load library \" + url);\n",
       "      };\n",
       "      console.log(\"Bokeh: injecting script tag for BokehJS library: \", url);\n",
       "      document.getElementsByTagName(\"head\")[0].appendChild(s);\n",
       "    }\n",
       "  };var element = document.getElementById(\"7e27d7f0-e03d-4697-9df4-1828f3c71b73\");\n",
       "  if (element == null) {\n",
       "    console.log(\"Bokeh: ERROR: autoload.js configured with elementid '7e27d7f0-e03d-4697-9df4-1828f3c71b73' but no matching script tag was found. \")\n",
       "    return false;\n",
       "  }\n",
       "\n",
       "  var js_urls = [\"https://cdn.pydata.org/bokeh/release/bokeh-0.12.10.min.js\", \"https://cdn.pydata.org/bokeh/release/bokeh-widgets-0.12.10.min.js\", \"https://cdn.pydata.org/bokeh/release/bokeh-tables-0.12.10.min.js\", \"https://cdn.pydata.org/bokeh/release/bokeh-gl-0.12.10.min.js\"];\n",
       "\n",
       "  var inline_js = [\n",
       "    function(Bokeh) {\n",
       "      Bokeh.set_log_level(\"info\");\n",
       "    },\n",
       "    \n",
       "    function(Bokeh) {\n",
       "      \n",
       "    },\n",
       "    function(Bokeh) {\n",
       "      console.log(\"Bokeh: injecting CSS: https://cdn.pydata.org/bokeh/release/bokeh-0.12.10.min.css\");\n",
       "      Bokeh.embed.inject_css(\"https://cdn.pydata.org/bokeh/release/bokeh-0.12.10.min.css\");\n",
       "      console.log(\"Bokeh: injecting CSS: https://cdn.pydata.org/bokeh/release/bokeh-widgets-0.12.10.min.css\");\n",
       "      Bokeh.embed.inject_css(\"https://cdn.pydata.org/bokeh/release/bokeh-widgets-0.12.10.min.css\");\n",
       "      console.log(\"Bokeh: injecting CSS: https://cdn.pydata.org/bokeh/release/bokeh-tables-0.12.10.min.css\");\n",
       "      Bokeh.embed.inject_css(\"https://cdn.pydata.org/bokeh/release/bokeh-tables-0.12.10.min.css\");\n",
       "    }\n",
       "  ];\n",
       "\n",
       "  function run_inline_js() {\n",
       "    \n",
       "    if ((root.Bokeh !== undefined) || (force === true)) {\n",
       "      for (var i = 0; i < inline_js.length; i++) {\n",
       "        inline_js[i].call(root, root.Bokeh);\n",
       "      }if (force === true) {\n",
       "        display_loaded();\n",
       "      }} else if (Date.now() < root._bokeh_timeout) {\n",
       "      setTimeout(run_inline_js, 100);\n",
       "    } else if (!root._bokeh_failed_load) {\n",
       "      console.log(\"Bokeh: BokehJS failed to load within specified timeout.\");\n",
       "      root._bokeh_failed_load = true;\n",
       "    } else if (force !== true) {\n",
       "      var cell = $(document.getElementById(\"7e27d7f0-e03d-4697-9df4-1828f3c71b73\")).parents('.cell').data().cell;\n",
       "      cell.output_area.append_execute_result(NB_LOAD_WARNING)\n",
       "    }\n",
       "\n",
       "  }\n",
       "\n",
       "  if (root._bokeh_is_loading === 0) {\n",
       "    console.log(\"Bokeh: BokehJS loaded, going straight to plotting\");\n",
       "    run_inline_js();\n",
       "  } else {\n",
       "    load_libs(js_urls, function() {\n",
       "      console.log(\"Bokeh: BokehJS plotting callback run at\", now());\n",
       "      run_inline_js();\n",
       "    });\n",
       "  }\n",
       "}(window));"
      ],
      "application/vnd.bokehjs_load.v0+json": "\n(function(root) {\n  function now() {\n    return new Date();\n  }\n\n  var force = true;\n\n  if (typeof (root._bokeh_onload_callbacks) === \"undefined\" || force === true) {\n    root._bokeh_onload_callbacks = [];\n    root._bokeh_is_loading = undefined;\n  }\n\n  \n\n  \n  if (typeof (root._bokeh_timeout) === \"undefined\" || force === true) {\n    root._bokeh_timeout = Date.now() + 5000;\n    root._bokeh_failed_load = false;\n  }\n\n  var NB_LOAD_WARNING = {'data': {'text/html':\n     \"<div style='background-color: #fdd'>\\n\"+\n     \"<p>\\n\"+\n     \"BokehJS does not appear to have successfully loaded. If loading BokehJS from CDN, this \\n\"+\n     \"may be due to a slow or bad network connection. Possible fixes:\\n\"+\n     \"</p>\\n\"+\n     \"<ul>\\n\"+\n     \"<li>re-rerun `output_notebook()` to attempt to load from CDN again, or</li>\\n\"+\n     \"<li>use INLINE resources instead, as so:</li>\\n\"+\n     \"</ul>\\n\"+\n     \"<code>\\n\"+\n     \"from bokeh.resources import INLINE\\n\"+\n     \"output_notebook(resources=INLINE)\\n\"+\n     \"</code>\\n\"+\n     \"</div>\"}};\n\n  function display_loaded() {\n    var el = document.getElementById(\"7e27d7f0-e03d-4697-9df4-1828f3c71b73\");\n    if (el != null) {\n      el.textContent = \"BokehJS is loading...\";\n    }\n    if (root.Bokeh !== undefined) {\n      if (el != null) {\n        el.textContent = \"BokehJS \" + root.Bokeh.version + \" successfully loaded.\";\n      }\n    } else if (Date.now() < root._bokeh_timeout) {\n      setTimeout(display_loaded, 100)\n    }\n  }\n\n\n  function run_callbacks() {\n    try {\n      root._bokeh_onload_callbacks.forEach(function(callback) { callback() });\n    }\n    finally {\n      delete root._bokeh_onload_callbacks\n    }\n    console.info(\"Bokeh: all callbacks have finished\");\n  }\n\n  function load_libs(js_urls, callback) {\n    root._bokeh_onload_callbacks.push(callback);\n    if (root._bokeh_is_loading > 0) {\n      console.log(\"Bokeh: BokehJS is being loaded, scheduling callback at\", now());\n      return null;\n    }\n    if (js_urls == null || js_urls.length === 0) {\n      run_callbacks();\n      return null;\n    }\n    console.log(\"Bokeh: BokehJS not loaded, scheduling load and callback at\", now());\n    root._bokeh_is_loading = js_urls.length;\n    for (var i = 0; i < js_urls.length; i++) {\n      var url = js_urls[i];\n      var s = document.createElement('script');\n      s.src = url;\n      s.async = false;\n      s.onreadystatechange = s.onload = function() {\n        root._bokeh_is_loading--;\n        if (root._bokeh_is_loading === 0) {\n          console.log(\"Bokeh: all BokehJS libraries loaded\");\n          run_callbacks()\n        }\n      };\n      s.onerror = function() {\n        console.warn(\"failed to load library \" + url);\n      };\n      console.log(\"Bokeh: injecting script tag for BokehJS library: \", url);\n      document.getElementsByTagName(\"head\")[0].appendChild(s);\n    }\n  };var element = document.getElementById(\"7e27d7f0-e03d-4697-9df4-1828f3c71b73\");\n  if (element == null) {\n    console.log(\"Bokeh: ERROR: autoload.js configured with elementid '7e27d7f0-e03d-4697-9df4-1828f3c71b73' but no matching script tag was found. \")\n    return false;\n  }\n\n  var js_urls = [\"https://cdn.pydata.org/bokeh/release/bokeh-0.12.10.min.js\", \"https://cdn.pydata.org/bokeh/release/bokeh-widgets-0.12.10.min.js\", \"https://cdn.pydata.org/bokeh/release/bokeh-tables-0.12.10.min.js\", \"https://cdn.pydata.org/bokeh/release/bokeh-gl-0.12.10.min.js\"];\n\n  var inline_js = [\n    function(Bokeh) {\n      Bokeh.set_log_level(\"info\");\n    },\n    \n    function(Bokeh) {\n      \n    },\n    function(Bokeh) {\n      console.log(\"Bokeh: injecting CSS: https://cdn.pydata.org/bokeh/release/bokeh-0.12.10.min.css\");\n      Bokeh.embed.inject_css(\"https://cdn.pydata.org/bokeh/release/bokeh-0.12.10.min.css\");\n      console.log(\"Bokeh: injecting CSS: https://cdn.pydata.org/bokeh/release/bokeh-widgets-0.12.10.min.css\");\n      Bokeh.embed.inject_css(\"https://cdn.pydata.org/bokeh/release/bokeh-widgets-0.12.10.min.css\");\n      console.log(\"Bokeh: injecting CSS: https://cdn.pydata.org/bokeh/release/bokeh-tables-0.12.10.min.css\");\n      Bokeh.embed.inject_css(\"https://cdn.pydata.org/bokeh/release/bokeh-tables-0.12.10.min.css\");\n    }\n  ];\n\n  function run_inline_js() {\n    \n    if ((root.Bokeh !== undefined) || (force === true)) {\n      for (var i = 0; i < inline_js.length; i++) {\n        inline_js[i].call(root, root.Bokeh);\n      }if (force === true) {\n        display_loaded();\n      }} else if (Date.now() < root._bokeh_timeout) {\n      setTimeout(run_inline_js, 100);\n    } else if (!root._bokeh_failed_load) {\n      console.log(\"Bokeh: BokehJS failed to load within specified timeout.\");\n      root._bokeh_failed_load = true;\n    } else if (force !== true) {\n      var cell = $(document.getElementById(\"7e27d7f0-e03d-4697-9df4-1828f3c71b73\")).parents('.cell').data().cell;\n      cell.output_area.append_execute_result(NB_LOAD_WARNING)\n    }\n\n  }\n\n  if (root._bokeh_is_loading === 0) {\n    console.log(\"Bokeh: BokehJS loaded, going straight to plotting\");\n    run_inline_js();\n  } else {\n    load_libs(js_urls, function() {\n      console.log(\"Bokeh: BokehJS plotting callback run at\", now());\n      run_inline_js();\n    });\n  }\n}(window));"
     },
     "metadata": {},
     "output_type": "display_data"
    },
    {
     "data": {
      "text/html": [
       "\n",
       "<div class=\"bk-root\">\n",
       "    <div class=\"bk-plotdiv\" id=\"f0bb15f4-679a-4028-a1af-e9b30151d1b0\"></div>\n",
       "</div>"
      ]
     },
     "metadata": {},
     "output_type": "display_data"
    },
    {
     "data": {
      "application/javascript": [
       "(function(root) {\n",
       "  function embed_document(root) {\n",
       "    var docs_json = {\"e66b09c1-e3a0-4625-9f48-777de3ff576b\":{\"roots\":{\"references\":[{\"attributes\":{\"active_drag\":\"auto\",\"active_inspect\":\"auto\",\"active_scroll\":\"auto\",\"active_tap\":\"auto\",\"tools\":[{\"id\":\"e066eadb-bcc3-469f-9ed1-8afc4c44c3c0\",\"type\":\"PanTool\"},{\"id\":\"dcb7d153-681a-4540-b074-5cd493fcc7cd\",\"type\":\"WheelZoomTool\"},{\"id\":\"77f035ef-cf66-4373-bf0a-43083bcf79ce\",\"type\":\"BoxZoomTool\"},{\"id\":\"cda3c784-99f2-414d-b7bf-7bafd60aa281\",\"type\":\"ResetTool\"},{\"id\":\"44b51a43-7d47-43d3-9e3c-852e8214a1ee\",\"type\":\"SaveTool\"}]},\"id\":\"3f1c5c34-0310-4759-9c43-41f0ca9a3964\",\"type\":\"Toolbar\"},{\"attributes\":{\"data_source\":{\"id\":\"5285f06c-47c9-4c19-8a99-92e51f4c9f0a\",\"type\":\"ColumnDataSource\"},\"glyph\":{\"id\":\"0d4cd13d-c410-4d46-827d-da4977f40d29\",\"type\":\"VBar\"},\"hover_glyph\":null,\"muted_glyph\":null,\"nonselection_glyph\":{\"id\":\"9832d036-a35a-47f0-828b-08aed4c3ab3f\",\"type\":\"VBar\"},\"selection_glyph\":null,\"view\":{\"id\":\"40400604-0c84-448e-b94c-80fef6686b54\",\"type\":\"CDSView\"}},\"id\":\"a39ab20e-c8ad-413e-9254-d2df1f5800b4\",\"type\":\"GlyphRenderer\"},{\"attributes\":{},\"id\":\"dcb7d153-681a-4540-b074-5cd493fcc7cd\",\"type\":\"WheelZoomTool\"},{\"attributes\":{},\"id\":\"44b51a43-7d47-43d3-9e3c-852e8214a1ee\",\"type\":\"SaveTool\"},{\"attributes\":{\"callback\":null},\"id\":\"45083f5e-dc80-4c9c-96e0-23a98fcd2dd7\",\"type\":\"DataRange1d\"},{\"attributes\":{},\"id\":\"0271198c-7009-4e41-96f8-cbd1663d1d97\",\"type\":\"BasicTickFormatter\"},{\"attributes\":{\"below\":[{\"id\":\"5716c031-b4d7-4db5-bd54-55a8b4ec4c12\",\"type\":\"LinearAxis\"}],\"left\":[{\"id\":\"a58e9bf3-0513-4bdf-afdd-3b8f4143dfc4\",\"type\":\"LinearAxis\"}],\"plot_width\":1000,\"renderers\":[{\"id\":\"5716c031-b4d7-4db5-bd54-55a8b4ec4c12\",\"type\":\"LinearAxis\"},{\"id\":\"241a09bb-8f60-4a52-bc21-78857e061979\",\"type\":\"Grid\"},{\"id\":\"a58e9bf3-0513-4bdf-afdd-3b8f4143dfc4\",\"type\":\"LinearAxis\"},{\"id\":\"14cb57fe-6cbb-4cec-8c2b-0fdcc0645842\",\"type\":\"Grid\"},{\"id\":\"7bf7e4cf-cf22-453c-a36d-1a4f573be90a\",\"type\":\"BoxAnnotation\"},{\"id\":\"a39ab20e-c8ad-413e-9254-d2df1f5800b4\",\"type\":\"GlyphRenderer\"}],\"title\":{\"id\":\"ac011196-e0b7-4c61-a233-8a88069023f6\",\"type\":\"Title\"},\"toolbar\":{\"id\":\"3f1c5c34-0310-4759-9c43-41f0ca9a3964\",\"type\":\"Toolbar\"},\"x_range\":{\"id\":\"a753884d-4adb-42eb-816e-b845d3ea67a0\",\"type\":\"DataRange1d\"},\"x_scale\":{\"id\":\"02cfcec5-aa14-40e5-9d53-5c14be720bc3\",\"type\":\"LinearScale\"},\"y_range\":{\"id\":\"45083f5e-dc80-4c9c-96e0-23a98fcd2dd7\",\"type\":\"DataRange1d\"},\"y_scale\":{\"id\":\"7b87be64-fa80-487c-bb9c-5ca06564709b\",\"type\":\"LinearScale\"}},\"id\":\"183c582a-e566-4cff-b52e-c0d323456025\",\"subtype\":\"Figure\",\"type\":\"Plot\"},{\"attributes\":{\"overlay\":{\"id\":\"7bf7e4cf-cf22-453c-a36d-1a4f573be90a\",\"type\":\"BoxAnnotation\"}},\"id\":\"77f035ef-cf66-4373-bf0a-43083bcf79ce\",\"type\":\"BoxZoomTool\"},{\"attributes\":{\"grid_line_alpha\":{\"value\":0.3},\"plot\":{\"id\":\"183c582a-e566-4cff-b52e-c0d323456025\",\"subtype\":\"Figure\",\"type\":\"Plot\"},\"ticker\":{\"id\":\"1e0ec477-895b-4d2c-baf8-a96aba18ada3\",\"type\":\"BasicTicker\"}},\"id\":\"241a09bb-8f60-4a52-bc21-78857e061979\",\"type\":\"Grid\"},{\"attributes\":{\"formatter\":{\"id\":\"39afa0aa-be27-4884-b419-596ad1cdfe49\",\"type\":\"BasicTickFormatter\"},\"major_label_orientation\":0.7853981633974483,\"plot\":{\"id\":\"183c582a-e566-4cff-b52e-c0d323456025\",\"subtype\":\"Figure\",\"type\":\"Plot\"},\"ticker\":{\"id\":\"1e0ec477-895b-4d2c-baf8-a96aba18ada3\",\"type\":\"BasicTicker\"}},\"id\":\"5716c031-b4d7-4db5-bd54-55a8b4ec4c12\",\"type\":\"LinearAxis\"},{\"attributes\":{},\"id\":\"39afa0aa-be27-4884-b419-596ad1cdfe49\",\"type\":\"BasicTickFormatter\"},{\"attributes\":{},\"id\":\"cda3c784-99f2-414d-b7bf-7bafd60aa281\",\"type\":\"ResetTool\"},{\"attributes\":{\"formatter\":{\"id\":\"0271198c-7009-4e41-96f8-cbd1663d1d97\",\"type\":\"BasicTickFormatter\"},\"plot\":{\"id\":\"183c582a-e566-4cff-b52e-c0d323456025\",\"subtype\":\"Figure\",\"type\":\"Plot\"},\"ticker\":{\"id\":\"6ca2a42c-6766-48a7-b0ac-04784ea0c1f9\",\"type\":\"BasicTicker\"}},\"id\":\"a58e9bf3-0513-4bdf-afdd-3b8f4143dfc4\",\"type\":\"LinearAxis\"},{\"attributes\":{},\"id\":\"e066eadb-bcc3-469f-9ed1-8afc4c44c3c0\",\"type\":\"PanTool\"},{\"attributes\":{\"callback\":null,\"column_names\":[\"x\",\"top\",\"bottom\"],\"data\":{\"bottom\":{\"__ndarray__\":\"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\",\"dtype\":\"float64\",\"shape\":[449]},\"top\":{\"__ndarray__\":\"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\",\"dtype\":\"float64\",\"shape\":[449]},\"x\":[0,1,2,3,4,5,6,7,8,9,10,11,12,13,14,15,16,17,18,19,20,21,22,23,24,25,26,27,28,29,30,31,32,33,34,35,36,37,38,39,40,41,42,43,44,45,46,47,48,49,50,51,52,53,54,55,56,57,58,59,60,61,62,63,64,65,66,67,68,69,70,71,72,73,74,75,76,77,78,79,80,81,82,83,84,85,86,87,88,89,90,91,92,93,94,95,96,97,98,99,100,101,102,103,104,105,106,107,108,109,110,111,112,113,114,115,116,117,118,119,120,121,122,123,124,125,126,127,128,129,130,131,132,133,134,135,136,137,138,139,140,141,142,143,144,145,146,147,148,149,150,151,152,153,154,155,156,157,158,159,160,161,162,163,164,165,166,167,168,169,170,171,172,173,174,175,176,177,178,179,180,181,182,183,184,185,186,187,188,189,190,191,192,193,194,195,196,197,198,199,200,201,202,203,204,205,206,207,208,209,210,211,212,213,214,215,216,217,218,219,220,221,222,223,224,225,226,227,228,229,230,231,232,233,234,235,236,237,238,239,240,241,242,243,244,245,246,247,248,249,250,251,252,253,254,255,256,257,258,259,260,261,262,263,264,265,266,267,268,269,270,271,272,273,274,275,276,277,278,279,280,281,282,283,284,285,286,287,288,289,290,291,292,293,294,295,296,297,298,299,300,301,302,303,304,305,306,307,308,309,310,311,312,313,314,315,316,317,318,319,320,321,322,323,324,325,326,327,328,329,330,331,332,333,334,335,336,337,338,339,340,341,342,343,344,345,346,347,348,349,350,351,352,353,354,355,356,357,358,359,360,361,362,363,364,365,366,367,368,369,370,371,372,373,374,375,376,377,378,379,380,381,382,383,384,385,386,387,388,389,390,391,392,393,394,395,396,397,398,399,400,401,402,403,404,405,406,407,408,409,410,411,412,413,414,415,416,417,418,419,420,421,422,423,424,425,426,427,428,429,430,431,432,433,434,435,436,437,438,439,440,441,442,443,444,445,446,447,448]}},\"id\":\"5285f06c-47c9-4c19-8a99-92e51f4c9f0a\",\"type\":\"ColumnDataSource\"},{\"attributes\":{\"bottom\":{\"field\":\"bottom\"},\"fill_color\":{\"value\":\"#D5E1DD\"},\"line_color\":{\"value\":\"#1f77b4\"},\"top\":{\"field\":\"top\"},\"width\":{\"value\":0.5},\"x\":{\"field\":\"x\"}},\"id\":\"0d4cd13d-c410-4d46-827d-da4977f40d29\",\"type\":\"VBar\"},{\"attributes\":{\"callback\":null},\"id\":\"a753884d-4adb-42eb-816e-b845d3ea67a0\",\"type\":\"DataRange1d\"},{\"attributes\":{\"dimension\":1,\"grid_line_alpha\":{\"value\":0.3},\"plot\":{\"id\":\"183c582a-e566-4cff-b52e-c0d323456025\",\"subtype\":\"Figure\",\"type\":\"Plot\"},\"ticker\":{\"id\":\"6ca2a42c-6766-48a7-b0ac-04784ea0c1f9\",\"type\":\"BasicTicker\"}},\"id\":\"14cb57fe-6cbb-4cec-8c2b-0fdcc0645842\",\"type\":\"Grid\"},{\"attributes\":{},\"id\":\"1e0ec477-895b-4d2c-baf8-a96aba18ada3\",\"type\":\"BasicTicker\"},{\"attributes\":{\"bottom\":{\"field\":\"bottom\"},\"fill_alpha\":{\"value\":0.1},\"fill_color\":{\"value\":\"#1f77b4\"},\"line_alpha\":{\"value\":0.1},\"line_color\":{\"value\":\"#1f77b4\"},\"top\":{\"field\":\"top\"},\"width\":{\"value\":0.5},\"x\":{\"field\":\"x\"}},\"id\":\"9832d036-a35a-47f0-828b-08aed4c3ab3f\",\"type\":\"VBar\"},{\"attributes\":{\"source\":{\"id\":\"5285f06c-47c9-4c19-8a99-92e51f4c9f0a\",\"type\":\"ColumnDataSource\"}},\"id\":\"40400604-0c84-448e-b94c-80fef6686b54\",\"type\":\"CDSView\"},{\"attributes\":{},\"id\":\"6ca2a42c-6766-48a7-b0ac-04784ea0c1f9\",\"type\":\"BasicTicker\"},{\"attributes\":{\"bottom_units\":\"screen\",\"fill_alpha\":{\"value\":0.5},\"fill_color\":{\"value\":\"lightgrey\"},\"left_units\":\"screen\",\"level\":\"overlay\",\"line_alpha\":{\"value\":1.0},\"line_color\":{\"value\":\"black\"},\"line_dash\":[4,4],\"line_width\":{\"value\":2},\"plot\":null,\"render_mode\":\"css\",\"right_units\":\"screen\",\"top_units\":\"screen\"},\"id\":\"7bf7e4cf-cf22-453c-a36d-1a4f573be90a\",\"type\":\"BoxAnnotation\"},{\"attributes\":{\"plot\":null,\"text\":\"D aa and variation across aa for Fungi\"},\"id\":\"ac011196-e0b7-4c61-a233-8a88069023f6\",\"type\":\"Title\"},{\"attributes\":{},\"id\":\"02cfcec5-aa14-40e5-9d53-5c14be720bc3\",\"type\":\"LinearScale\"},{\"attributes\":{},\"id\":\"7b87be64-fa80-487c-bb9c-5ca06564709b\",\"type\":\"LinearScale\"}],\"root_ids\":[\"183c582a-e566-4cff-b52e-c0d323456025\"]},\"title\":\"Bokeh Application\",\"version\":\"0.12.10\"}};\n",
       "    var render_items = [{\"docid\":\"e66b09c1-e3a0-4625-9f48-777de3ff576b\",\"elementid\":\"f0bb15f4-679a-4028-a1af-e9b30151d1b0\",\"modelid\":\"183c582a-e566-4cff-b52e-c0d323456025\"}];\n",
       "\n",
       "    root.Bokeh.embed.embed_items(docs_json, render_items);\n",
       "  }\n",
       "\n",
       "  if (root.Bokeh !== undefined) {\n",
       "    embed_document(root);\n",
       "  } else {\n",
       "    var attempts = 0;\n",
       "    var timer = setInterval(function(root) {\n",
       "      if (root.Bokeh !== undefined) {\n",
       "        embed_document(root);\n",
       "        clearInterval(timer);\n",
       "      }\n",
       "      attempts++;\n",
       "      if (attempts > 100) {\n",
       "        console.log(\"Bokeh: ERROR: Unable to embed document because BokehJS library is missing\")\n",
       "        clearInterval(timer);\n",
       "      }\n",
       "    }, 10, root)\n",
       "  }\n",
       "})(window);"
      ],
      "application/vnd.bokehjs_exec.v0+json": ""
     },
     "metadata": {
      "application/vnd.bokehjs_exec.v0+json": {
       "id": "183c582a-e566-4cff-b52e-c0d323456025"
      }
     },
     "output_type": "display_data"
    }
   ],
   "source": [
    "from math import pi\n",
    "from bokeh.plotting import figure, show, output_file, output_notebook\n",
    "output_notebook()\n",
    "\n",
    "TOOLS = \"pan,wheel_zoom,box_zoom,reset,save\"\n",
    "\n",
    "p = figure(tools=TOOLS, plot_width=1000, title = \"D aa and variation across aa for Fungi\")\n",
    "p.xaxis.major_label_orientation = pi/4\n",
    "p.grid.grid_line_alpha=0.3\n",
    "\n",
    "p.vbar(x=range(len(indD)), top=regD+(variationD/2), bottom=regD-(variationD/2), width=0.5, fill_color=\"#D5E1DD\")\n",
    "\n",
    "output_file(\"D-fungi-mean-full-control-ordered.html\", title=\"D aa and variation across aa for Fungi\")\n",
    "show(p)  # open a browser"
   ]
  },
  {
   "cell_type": "code",
   "execution_count": 87,
   "metadata": {},
   "outputs": [],
   "source": [
    "np.savetxt(\"DFungiMeanControl.csv\", np.vstack((indD, regD, variationD)).T,\n",
    "           delimiter=\",\")"
   ]
  },
  {
   "cell_type": "code",
   "execution_count": 23,
   "metadata": {},
   "outputs": [],
   "source": [
    "errorbar(y=regD, x=range(len(regD)),yerr= variationD/2,fmt='.')\n",
    "savefig(\"domD-oct.pdf\")"
   ]
  },
  {
   "cell_type": "code",
   "execution_count": 145,
   "metadata": {},
   "outputs": [],
   "source": [
    "species = []\n",
    "amino = []\n",
    "da = []\n",
    "ami = {' H ':0,\n",
    "     ' F ':1,\n",
    "     ' Y ':2,\n",
    "     ' C ':3,\n",
    "     ' N ':4,\n",
    "     ' D ':5,\n",
    "     ' E ':6,\n",
    "     ' Q ':7,\n",
    "     ' K ':8}\n",
    "X = 440\n",
    "minv= 7\n",
    "datatot= pd.concat([pd.read_csv('parameterFitsBacteria/nonlinfit'+str(i)+'.txt',header=None) for i in range(minv,16)])\n",
    "datatot = datatot[datatot[4] <0.00999]\n",
    "datatot = datatot[datatot[5] <0.00999]\n",
    "data = datatot.drop([4,5], axis=1)\n",
    "data = np.array(data)\n",
    "arr = np.zeros((X,len(ami),16-minv))\n",
    "previ=-1\n",
    "j=0\n",
    "for line in data:\n",
    "    for i in range(X):\n",
    "        if line[0]==i+1:\n",
    "            for k,v in ami.iteritems():\n",
    "                if line[1] == k:\n",
    "                    arr[i,v,j] = man(line[2],line[3])#eucli(line[2],line[3])\n",
    "                    break\n",
    "            break\n",
    "    if i-previ<0:\n",
    "        j+=1\n",
    "    previ=i"
   ]
  },
  {
   "cell_type": "code",
   "execution_count": 146,
   "metadata": {},
   "outputs": [],
   "source": [
    "arr = np.ma.masked_equal(arr,0);\n",
    "arr = arr.mean(2)"
   ]
  },
  {
   "cell_type": "code",
   "execution_count": 147,
   "metadata": {},
   "outputs": [
    {
     "data": {
      "text/plain": [
       "masked_array(\n",
       "  data=[[--, --, --, --, --, 0.7962830000000001, 0.36476200000000003,\n",
       "         0.774405375, 0.8210961250000002],\n",
       "        [0.13826299999999994, 0.0351755, 0.14763375000000006, --,\n",
       "         0.044459000000000026, 0.20441449999999997, 0.19712466666666661,\n",
       "         0.36679216666666664, 0.08835849999999996],\n",
       "        [0.07385759999999995, 0.08869766666666663, 0.08468049999999999,\n",
       "         --, 0.10187799999999995, 0.12406360000000002,\n",
       "         0.19609577777777779, 0.5153, 0.3180845555555556],\n",
       "        [0.4764541111111112, 0.49565400000000004, 0.5149025555555555,\n",
       "         0.3438801428571428, 0.40184462499999996, 0.49069977777777773,\n",
       "         0.537584, --, --],\n",
       "        [0.1270115, 0.22104462499999997, 0.3422378888888889,\n",
       "         0.17017700000000002, 0.13362824999999998, 0.2747278888888889,\n",
       "         --, 1.1877600000000001, --],\n",
       "        [0.269681, 0.3340954999999999, 0.191833, --, 0.3441105,\n",
       "         0.4156376, 0.08611099999999994, 0.2877051428571429, 0.5230264],\n",
       "        [0.06817622222222225, 0.10886574999999993, 0.1288848, --,\n",
       "         0.008431999999999995, 0.13997366666666675, --,\n",
       "         0.398009888888889, 0.056190400000000015],\n",
       "        [0.066872, 0.10726450000000001, 0.3485089999999999, --,\n",
       "         0.06787366666666668, 0.20390379999999989, 0.749144,\n",
       "         0.4142517777777778, 0.10162128571428572],\n",
       "        [0.05829366666666669, --, --, --, 0.397014, 0.48576974999999994,\n",
       "         0.5266920000000002, 0.4393311111111111, 0.13282699999999995],\n",
       "        [0.36637774999999995, 0.4377724444444444, 0.3398602222222223,\n",
       "         0.14591079999999998, 0.15629487499999994, 0.3389412222222223,\n",
       "         0.30561449999999996, 0.20508975000000002, 0.2997727499999999],\n",
       "        [--, --, --, --, --, --, 0.4806761111111111, 0.771247125,\n",
       "         0.7515088888888889],\n",
       "        [0.47811911111111116, 0.7423746666666666, 0.44163433333333335,\n",
       "         0.6652554285714285, 0.4264044444444444, 0.5374504444444445, --,\n",
       "         --, 1.36114],\n",
       "        [0.15184233333333336, 0.26924400000000004, 0.097559875,\n",
       "         0.04861300000000002, 0.033593800000000076, 0.24445799999999995,\n",
       "         0.2323144, 0.05954699999999999, 0.05585875000000004],\n",
       "        [0.16180944444444448, 0.2762082222222222, 0.0872138333333334, --,\n",
       "         0.07752325, 0.150697125, 0.08243471428571425,\n",
       "         0.08478425000000003, 0.14270850000000002],\n",
       "        [--, 0.11350566666666667, --, 0.1322855, 0.501696,\n",
       "         0.20772200000000002, 0.256972, 0.34378722222222224,\n",
       "         0.09987033333333317],\n",
       "        [0.29005711111111115, 0.4995446666666667, 0.3900093333333333,\n",
       "         0.5044967499999999, 0.312822, 0.388561125, 0.6259170000000001,\n",
       "         0.2570453333333334, 0.8313160000000002],\n",
       "        [0.4973678888888889, 0.4745836666666666, 0.43045833333333333,\n",
       "         0.11844199999999994, 0.3272845, 0.4631983333333333,\n",
       "         0.4731740000000001, 0.20982474999999998, 0.41453150000000005],\n",
       "        [0.3087082222222223, 0.10573266666666671, 0.27492275,\n",
       "         0.07276600000000001, 0.1878834285714286, 0.1920831111111111,\n",
       "         0.370123, 0.034230000000000003, 0.17723799999999995],\n",
       "        [0.22972933333333334, 0.031193833333333292, 0.2726823333333333,\n",
       "         0.11924099999999997, 0.11592099999999997, 0.14454887500000002,\n",
       "         --, 0.06464433333333336, 0.18384299999999987],\n",
       "        [0.22625900000000002, 0.057689333333333315, 0.27830255555555555,\n",
       "         0.11033728571428572, 0.11722942857142857, 0.19508875000000003,\n",
       "         0.6280880000000002, 0.05730120000000001, 0.16824700000000004],\n",
       "        [0.1911995, 0.05632033333333333, 0.2617952222222223,\n",
       "         0.10144619999999997, 0.12879683333333328, 0.20690933333333336,\n",
       "         --, 0.05143266666666663, 0.22727399999999998],\n",
       "        [0.22525250000000002, 0.011222000000000038, 0.2824121111111111,\n",
       "         0.10164159999999997, 0.13858677777777775, 0.13050042857142855,\n",
       "         0.4242769999999999, 0.03167271428571428, 0.13229649999999998],\n",
       "        [0.25481844444444446, 0.018056000000000034, 0.29883922222222215,\n",
       "         0.14909175000000002, 0.11834800000000001, 0.11998174999999998,\n",
       "         0.8549804999999998, 0.10981025, 0.19015775000000001],\n",
       "        [0.2901771111111111, 0.04171649999999999, 0.30158962500000003,\n",
       "         0.16123014285714285, 0.17790312499999997, 0.183631, --,\n",
       "         0.03177414285714285, 0.24379099999999995],\n",
       "        [0.06049066666666666, 0.04690450000000003, 0.05410257142857141,\n",
       "         --, 0.2050624999999999, 0.061886857142857084,\n",
       "         0.16583550000000002, 0.05114475000000003, 0.019359125000000005],\n",
       "        [0.21712200000000004, --, 0.7871300000000001, --, --,\n",
       "         1.3085560000000003, 0.11436237500000003, 0.7370395555555556,\n",
       "         0.7473805555555555],\n",
       "        [0.347049, 0.6863106666666667, 0.47711266666666674,\n",
       "         0.7627305000000001, 0.44413279999999994, 0.610360125, --,\n",
       "         1.9229159999999994, --],\n",
       "        [0.9490716666666666, 0.5855750000000001, 0.35392219999999996, --,\n",
       "         0.982482, 0.48807433333333333, 0.30618200000000007, --,\n",
       "         2.0324940000000002],\n",
       "        [0.25939399999999996, 0.7616264285714286, 0.7433168, 1.284434,\n",
       "         1.598914, 0.5659820000000001, --, --, --],\n",
       "        [0.7515078333333335, 0.43307888888888885, 0.7386886666666668,\n",
       "         0.2274585, 0.7657539999999999, 0.8883447499999999, --,\n",
       "         0.08457950000000003, --],\n",
       "        [0.6991064, 0.4238743333333333, 0.6603270000000001,\n",
       "         0.14844400000000002, 0.7119965, 0.8043668749999999, --,\n",
       "         0.08881149999999993, --],\n",
       "        [0.8784531999999998, 0.4243514444444445, 0.7247631111111111,\n",
       "         0.23423157142857143, 0.9406005714285713, 0.9250536250000001, --,\n",
       "         0.10775174999999998, --],\n",
       "        [--, --, 0.37328966666666674, --, --, --, 0.23494562500000005,\n",
       "         0.5379708571428571, 0.754922125],\n",
       "        [0.4846899999999999, 1.0003077777777778, 0.7366715555555555,\n",
       "         0.43390966666666664, 0.6477885000000001, 0.60521025,\n",
       "         0.18629183333333335, 0.05463974999999997, 0.29646340000000004],\n",
       "        [0.2727952857142857, 0.49222611111111114, 0.3223083333333333,\n",
       "         0.14231799999999994, 0.4335292500000001, 0.486731,\n",
       "         0.5053829999999999, 0.2854756666666667, 0.44492799999999993],\n",
       "        [0.5404682222222222, 0.7428589999999999, 0.40729011111111096,\n",
       "         0.42560166666666666, 0.47175414285714284, 0.7995662222222222,\n",
       "         0.241021, 0.22884555555555558, 0.3028415],\n",
       "        [--, 1.105393, 1.008845, --, --, --, --, --, --],\n",
       "        [0.24001650000000008, 0.6858753333333336, 0.31721733333333335,\n",
       "         --, 0.56324, 0.10341499999999997, --, 0.3572613333333334,\n",
       "         0.30814600000000003],\n",
       "        [0.08240199999999992, 0.3751925, 0.048056833333333326,\n",
       "         0.10563824999999999, 0.3002955, 0.04663599999999992,\n",
       "         0.10529033333333336, 0.17924650000000003, 0.20722442857142856],\n",
       "        [0.08228771428571424, 0.21994266666666668, 0.10033512499999998,\n",
       "         --, 0.07004116666666668, 0.028813833333333344,\n",
       "         0.6765555000000002, 0.19707449999999999, 0.6026283333333334],\n",
       "        [1.12077625, 0.8033283333333333, 0.3774990000000001, 1.237256,\n",
       "         0.6701935000000001, 0.5975130000000001, --, --,\n",
       "         1.3976570000000001],\n",
       "        [0.0441776666666667, 0.11930750000000007, 0.025454888888888916,\n",
       "         0.3691429999999998, 0.2692715, 0.11369528571428573, 0.03586375,\n",
       "         0.14750633333333335, 0.07352700000000004],\n",
       "        [0.18899977777777777, 0.14962128571428573, 0.18091533333333332,\n",
       "         0.10625200000000005, 0.024867571428571402, 0.08866999999999997,\n",
       "         0.03789012499999997, 0.19222877777777775, 0.15677844444444441],\n",
       "        [0.18396144444444446, 0.01834111111111108, 0.20503811111111114,\n",
       "         0.07175649999999996, 0.06281874999999998, 0.1440142222222222,\n",
       "         0.02818462500000002, 0.20406800000000005, 0.15812874999999998],\n",
       "        [1.5582909999999999, --, 0.883737, --, --, --, --, --, --],\n",
       "        [--, --, 0.310615, --, 0.30986466666666673, 0.08161462500000002,\n",
       "         0.05905750000000002, 0.496342, 0.28827077777777776],\n",
       "        [0.13854742857142852, 0.031870714285714266, 0.26633700000000005,\n",
       "         0.4643649999999999, --, 0.09217185714285714,\n",
       "         0.31294933333333336, 0.37634377777777783, 0.4097008888888889],\n",
       "        [0.16220400000000001, 0.34864771428571434, 0.13614400000000002,\n",
       "         0.21511249999999987, 0.14795975, 0.2988484444444444,\n",
       "         0.06643928571428571, 0.09181999999999998, 0.08241474999999998],\n",
       "        [0.12625416666666664, 0.5269318888888889, 0.3503252222222222,\n",
       "         0.8335026666666666, 0.5373851666666667, 0.4951254444444444, --,\n",
       "         --, --],\n",
       "        [0.49041100000000004, --, 0.05419683333333333, --, --,\n",
       "         0.017743428571428615, 0.055594857142857154, 0.07324271428571429,\n",
       "         0.3791563333333333],\n",
       "        [0.062330222222222204, 0.17526787500000002, 0.2019087777777778,\n",
       "         0.09787275000000001, 0.06429257142857144, 0.16026166666666666,\n",
       "         0.18428959999999997, 0.23251437500000002, 0.05506599999999998],\n",
       "        [0.13961500000000004, 0.5185338888888888, 0.06287044444444444,\n",
       "         0.04757049999999996, 0.12092883333333328, 0.40924933333333335,\n",
       "         0.05598099999999999, 0.11994799999999999, 0.084695875],\n",
       "        [0.7729920000000001, 0.22666849999999994, --, 0.6137229999999999,\n",
       "         --, 0.20045588888888888, 0.363796, 0.476866, 0.1644878333333333],\n",
       "        [0.7729920000000001, 0.22666849999999994, --, 0.6137229999999999,\n",
       "         --, 0.19962866666666665, 0.3436524285714286, 0.4722392857142857,\n",
       "         0.1382608571428571],\n",
       "        [0.9055859999999998, 0.22928099999999985, --, --, --,\n",
       "         0.1818748888888889, 0.31453916666666665, 0.4732908571428572,\n",
       "         0.17843850000000003],\n",
       "        [0.9628455000000001, 0.2059330000000001, --, --, --,\n",
       "         0.1913204444444444, 0.36649066666666674, 0.5031485,\n",
       "         0.1587398571428571],\n",
       "        [0.637092, 0.5233204999999999, --, 0.6137229999999999, --,\n",
       "         0.2001652222222222, 0.3443391428571428, 0.4794701250000001,\n",
       "         0.17121716666666667],\n",
       "        [0.7729920000000001, 0.22666849999999994, --, 0.6137229999999999,\n",
       "         --, 0.20045588888888888, 0.36233999999999994, 0.476866,\n",
       "         0.1622848333333333],\n",
       "        [0.7459736666666666, 0.2615025, --, 0.19261400000000006, --,\n",
       "         0.18760533333333335, 0.27843999999999997, 0.4127425555555556,\n",
       "         0.13523224999999992],\n",
       "        [0.46202999999999994, 0.2141586666666667, --,\n",
       "         0.18978499999999998, --, 0.08550471428571428,\n",
       "         0.18994071428571419, 0.5551263333333334, 0.05451899999999994],\n",
       "        [0.7012606666666666, 0.366483, 0.8099215, 0.28983799999999993,\n",
       "         --, 0.08370842857142859, 0.19132800000000003,\n",
       "         0.4968828888888889, 0.07370687500000002],\n",
       "        [1.0063043333333332, 0.18619133333333338, 0.5395599999999999,\n",
       "         0.6372149999999999, --, 0.19860266666666662, 0.3435404999999999,\n",
       "         0.462967625, 0.12768533333333335],\n",
       "        [0.5037410000000001, 0.5429713333333334, 0.8510630000000001, --,\n",
       "         --, 0.17906599999999998, 0.2581585, 0.5065445555555556,\n",
       "         0.10912333333333335],\n",
       "        [--, 0.34741799999999995, 0.6756600000000001, 0.284083,\n",
       "         0.9490110000000003, 0.185211, 0.3078452000000001,\n",
       "         0.4634973333333334, 0.12722280000000008],\n",
       "        [0.5322770000000001, 0.5541056666666667, 0.7521990000000002, --,\n",
       "         0.44810799999999995, 0.19812487499999998, 0.2624786666666667,\n",
       "         0.5197301111111111, 0.10945016666666667],\n",
       "        [0.7167115, 0.5083536666666667, --, 0.22329100000000002, --,\n",
       "         0.2171048888888889, 0.3435697500000001, 0.4055602222222222,\n",
       "         0.1482474],\n",
       "        [0.369159, 0.3280093333333333, 0.790173, 0.37062649999999997, --,\n",
       "         0.1569503333333334, 0.3286940000000001, 0.41539775,\n",
       "         0.11985533333333331],\n",
       "        [0.4071760000000001, 0.2862115, 1.174678, 0.17862999999999996,\n",
       "         --, 0.076576375, 0.24898350000000002, 0.5727105,\n",
       "         0.04625512499999995],\n",
       "        [--, 0.453284, 0.663173, --, 0.637291, 0.17991877777777782,\n",
       "         0.28379783333333336, 0.4252324444444444, 0.09063883333333334],\n",
       "        [--, 0.42045000000000005, 0.663173, --, --, 0.18486411111111117,\n",
       "         0.3260091666666667, 0.42357711111111107, 0.09018828571428573],\n",
       "        [--, 0.4022153333333333, 0.663173, 0.189322, --,\n",
       "         0.18390055555555554, 0.3355854, 0.41386677777777775,\n",
       "         0.0881792857142857],\n",
       "        [--, 0.26060866666666677, --, --, --, --, 0.3967232222222222,\n",
       "         0.46759800000000007, 0.26838275],\n",
       "        [0.05611633333333329, 0.09215114285714288, 0.015504249999999997,\n",
       "         0.048987, 0.15276099999999998, 0.1272927142857143,\n",
       "         0.057058285714285666, 0.14904385714285717, 0.08498483333333336],\n",
       "        [--, --, --, --, --, --, 0.5847121428571428, 0.739282,\n",
       "         0.9678493999999999],\n",
       "        [--, --, --, --, --, --, 0.644185, 0.6109677777777778,\n",
       "         0.8392156666666667],\n",
       "        [--, --, --, --, --, --, 0.654912625, 0.9751764285714286,\n",
       "         1.0941085],\n",
       "        [--, --, --, --, --, --, 0.5612347142857143, 0.61240175,\n",
       "         0.6852413333333334],\n",
       "        [--, --, --, --, --, --, 0.5759697777777778, 0.8186985714285715,\n",
       "         1.167884],\n",
       "        [--, 1.6855069999999999, --, --, --, --, 0.58058225,\n",
       "         0.7183284285714286, 0.8784015000000001],\n",
       "        [--, 0.41452100000000003, --, --, --, 1.0130513333333333,\n",
       "         0.34475600000000006, 0.5936702500000001, 0.6182171666666666],\n",
       "        [--, 0.5630389999999998, --, --, --, 1.0468069999999998,\n",
       "         0.4162278888888888, 0.6100486666666667, 0.6306091250000001],\n",
       "        [--, 0.520627, --, --, --, --, 0.3703814444444445,\n",
       "         0.5363144444444444, 0.6477854285714285],\n",
       "        [--, --, --, --, --, --, 0.47901366666666667, 0.6237618888888891,\n",
       "         0.8501144285714286],\n",
       "        [--, 1.148067, --, --, --, 2.2277909999999994,\n",
       "         0.48247355555555554, 0.6481565555555556, 0.65373225],\n",
       "        [--, --, --, --, --, --, 0.8034273333333333, 0.7598845000000001,\n",
       "         0.8787394],\n",
       "        [--, --, --, --, --, --, 0.705039125, 0.7873140000000001,\n",
       "         1.0113173999999998],\n",
       "        [--, --, --, --, --, --, 0.6284611428571428, 0.6823821666666666,\n",
       "         0.8647753333333333],\n",
       "        [--, --, --, --, --, --, 0.6286835, 0.6515626666666665,\n",
       "         0.8046028571428571],\n",
       "        [0.24234100000000003, 0.6001846666666667, 0.4533965555555555,\n",
       "         0.12161333333333331, 0.30592566666666665, 0.39521033333333333,\n",
       "         --, 0.2816023333333333, 0.7534155],\n",
       "        [0.27787124999999996, 0.67189775, 0.44967244444444443,\n",
       "         0.07072433333333335, 0.26606577777777773, 0.3830305555555556,\n",
       "         --, 0.24148900000000004, 0.3437220000000001],\n",
       "        [0.26445722222222223, 0.6826815555555554, 0.40198077777777785,\n",
       "         0.15159100000000014, 0.26825725, 0.374289, --,\n",
       "         0.2726192500000001, 0.420925],\n",
       "        [0.001367000000000007, 0.38592966666666667, 0.10157183333333335,\n",
       "         0.114343, 0.10915842857142857, 0.21640822222222222, --,\n",
       "         0.452416, 0.13723299999999994],\n",
       "        [--, 0.07413974999999998, --, --, --, --, 0.642541625,\n",
       "         0.6102116666666667, 0.2950272857142857],\n",
       "        [0.5191846666666667, 1.1315374999999999, 0.5785178, 1.19732,\n",
       "         1.2121565, 0.8250014999999999, --, --, --],\n",
       "        [0.60348075, 0.913714, 0.7053987500000001, 1.214131,\n",
       "         1.5149830000000002, 1.1362050000000001, --, --, --],\n",
       "        [0.44772085714285714, 0.414276, 0.7831954, 0.7588349999999999,\n",
       "         1.4518345000000001, 0.255367, --, --, --],\n",
       "        [0.74429375, 0.2262869999999999, 0.11250850000000001, --, --,\n",
       "         0.13446799999999992, 0.21410871428571435, 0.2824648888888889,\n",
       "         0.055452666666666685],\n",
       "        [0.30521224999999996, --, 0.3009800000000001, --, --,\n",
       "         0.21813420000000008, 0.26653314285714286, 0.5612417777777777,\n",
       "         0.51944375],\n",
       "        [0.5736355, 0.13851399999999991, 0.25721999999999995, --,\n",
       "         0.1422515000000001, 0.045291000000000026, 0.5386620000000001,\n",
       "         0.2923458, 0.343507],\n",
       "        [0.03843528571428573, 0.2604223333333333, 0.0117805,\n",
       "         0.21037119999999998, 0.08647366666666655, 0.243309,\n",
       "         0.23072140000000002, 0.3705710000000001, 0.48062249999999995]],\n",
       "  mask=[[ True,  True,  True, ..., False, False, False],\n",
       "        [False, False, False, ..., False, False, False],\n",
       "        [False, False, False, ..., False, False, False],\n",
       "        ...,\n",
       "        [False,  True, False, ..., False, False, False],\n",
       "        [False, False, False, ..., False, False, False],\n",
       "        [False, False, False, ..., False, False, False]],\n",
       "  fill_value=1e+20)"
      ]
     },
     "execution_count": 147,
     "metadata": {},
     "output_type": "execute_result"
    }
   ],
   "source": [
    "arr"
   ]
  },
  {
   "cell_type": "code",
   "execution_count": 148,
   "metadata": {},
   "outputs": [
    {
     "data": {
      "text/plain": [
       "(440, 9)"
      ]
     },
     "execution_count": 148,
     "metadata": {},
     "output_type": "execute_result"
    }
   ],
   "source": [
    "arr.shape"
   ]
  },
  {
   "cell_type": "code",
   "execution_count": 149,
   "metadata": {},
   "outputs": [],
   "source": [
    "amiC= arr[:,3]"
   ]
  },
  {
   "cell_type": "code",
   "execution_count": 150,
   "metadata": {},
   "outputs": [],
   "source": [
    "regC = np.array(amiC[np.logical_not(np.ma.getmask(amiC))])\n",
    "indC = np.argsort(regC)\n",
    "regC = regC[indC]"
   ]
  },
  {
   "cell_type": "code",
   "execution_count": 151,
   "metadata": {},
   "outputs": [],
   "source": [
    "variationC = (np.array(arr.var(1))[np.logical_not(np.ma.getmask(amiC))])[indC]"
   ]
  },
  {
   "cell_type": "code",
   "execution_count": 140,
   "metadata": {},
   "outputs": [],
   "source": [
    "from matplotlib.pyplot import *"
   ]
  },
  {
   "cell_type": "code",
   "execution_count": 141,
   "metadata": {},
   "outputs": [
    {
     "data": {
      "text/plain": [
       "<Container object of 3 artists>"
      ]
     },
     "execution_count": 141,
     "metadata": {},
     "output_type": "execute_result"
    },
    {
     "data": {
      "image/png": "[encoded data removed]",
      "text/plain": [
       "<matplotlib.figure.Figure at 0x114b59710>"
      ]
     },
     "metadata": {},
     "output_type": "display_data"
    }
   ],
   "source": [
    "errorbar(y=regC, x=range(len(regC)),yerr= variationC/2,fmt='.')"
   ]
  },
  {
   "cell_type": "code",
   "execution_count": 152,
   "metadata": {},
   "outputs": [
    {
     "data": {
      "text/html": [
       "\n",
       "    <div class=\"bk-root\">\n",
       "        <a href=\"https://bokeh.pydata.org\" target=\"_blank\" class=\"bk-logo bk-logo-small bk-logo-notebook\"></a>\n",
       "        <span id=\"8414f6ec-1f34-48bd-9517-2bb9bf52105f\">Loading BokehJS ...</span>\n",
       "    </div>"
      ]
     },
     "metadata": {},
     "output_type": "display_data"
    },
    {
     "data": {
      "application/javascript": [
       "\n",
       "(function(root) {\n",
       "  function now() {\n",
       "    return new Date();\n",
       "  }\n",
       "\n",
       "  var force = true;\n",
       "\n",
       "  if (typeof (root._bokeh_onload_callbacks) === \"undefined\" || force === true) {\n",
       "    root._bokeh_onload_callbacks = [];\n",
       "    root._bokeh_is_loading = undefined;\n",
       "  }\n",
       "\n",
       "  var JS_MIME_TYPE = 'application/javascript';\n",
       "  var HTML_MIME_TYPE = 'text/html';\n",
       "  var EXEC_MIME_TYPE = 'application/vnd.bokehjs_exec.v0+json';\n",
       "  var CLASS_NAME = 'output_bokeh rendered_html';\n",
       "\n",
       "  /**\n",
       "   * Render data to the DOM node\n",
       "   */\n",
       "  function render(props, node) {\n",
       "    var script = document.createElement(\"script\");\n",
       "    node.appendChild(script);\n",
       "  }\n",
       "\n",
       "  /**\n",
       "   * Handle when an output is cleared or removed\n",
       "   */\n",
       "  function handleClearOutput(event, handle) {\n",
       "    var cell = handle.cell;\n",
       "\n",
       "    var id = cell.output_area._bokeh_element_id;\n",
       "    var server_id = cell.output_area._bokeh_server_id;\n",
       "    // Clean up Bokeh references\n",
       "    if (id !== undefined) {\n",
       "      Bokeh.index[id].model.document.clear();\n",
       "      delete Bokeh.index[id];\n",
       "    }\n",
       "\n",
       "    if (server_id !== undefined) {\n",
       "      // Clean up Bokeh references\n",
       "      var cmd = \"from bokeh.io.state import curstate; print(curstate().uuid_to_server['\" + server_id + \"'].get_sessions()[0].document.roots[0]._id)\";\n",
       "      cell.notebook.kernel.execute(cmd, {\n",
       "        iopub: {\n",
       "          output: function(msg) {\n",
       "            var element_id = msg.content.text.trim();\n",
       "            Bokeh.index[element_id].model.document.clear();\n",
       "            delete Bokeh.index[element_id];\n",
       "          }\n",
       "        }\n",
       "      });\n",
       "      // Destroy server and session\n",
       "      var cmd = \"import bokeh.io.notebook as ion; ion.destroy_server('\" + server_id + \"')\";\n",
       "      cell.notebook.kernel.execute(cmd);\n",
       "    }\n",
       "  }\n",
       "\n",
       "  /**\n",
       "   * Handle when a new output is added\n",
       "   */\n",
       "  function handleAddOutput(event, handle) {\n",
       "    var output_area = handle.output_area;\n",
       "    var output = handle.output;\n",
       "\n",
       "    // limit handleAddOutput to display_data with EXEC_MIME_TYPE content only\n",
       "    if ((output.output_type != \"display_data\") || (!output.data.hasOwnProperty(EXEC_MIME_TYPE))) {\n",
       "      return\n",
       "    }\n",
       "\n",
       "    var toinsert = output_area.element.find(`.${CLASS_NAME.split(' ')[0]}`);\n",
       "\n",
       "    if (output.metadata[EXEC_MIME_TYPE][\"id\"] !== undefined) {\n",
       "      toinsert[0].firstChild.textContent = output.data[JS_MIME_TYPE];\n",
       "      // store reference to embed id on output_area\n",
       "      output_area._bokeh_element_id = output.metadata[EXEC_MIME_TYPE][\"id\"];\n",
       "    }\n",
       "    if (output.metadata[EXEC_MIME_TYPE][\"server_id\"] !== undefined) {\n",
       "      var bk_div = document.createElement(\"div\");\n",
       "      bk_div.innerHTML = output.data[HTML_MIME_TYPE];\n",
       "      var script_attrs = bk_div.children[0].attributes;\n",
       "      for (var i = 0; i < script_attrs.length; i++) {\n",
       "        toinsert[0].firstChild.setAttribute(script_attrs[i].name, script_attrs[i].value);\n",
       "      }\n",
       "      // store reference to server id on output_area\n",
       "      output_area._bokeh_server_id = output.metadata[EXEC_MIME_TYPE][\"server_id\"];\n",
       "    }\n",
       "  }\n",
       "\n",
       "  function register_renderer(events, OutputArea) {\n",
       "\n",
       "    function append_mime(data, metadata, element) {\n",
       "      // create a DOM node to render to\n",
       "      var toinsert = this.create_output_subarea(\n",
       "        metadata,\n",
       "        CLASS_NAME,\n",
       "        EXEC_MIME_TYPE\n",
       "      );\n",
       "      this.keyboard_manager.register_events(toinsert);\n",
       "      // Render to node\n",
       "      var props = {data: data, metadata: metadata[EXEC_MIME_TYPE]};\n",
       "      render(props, toinsert[0]);\n",
       "      element.append(toinsert);\n",
       "      return toinsert\n",
       "    }\n",
       "\n",
       "    /* Handle when an output is cleared or removed */\n",
       "    events.on('clear_output.CodeCell', handleClearOutput);\n",
       "    events.on('delete.Cell', handleClearOutput);\n",
       "\n",
       "    /* Handle when a new output is added */\n",
       "    events.on('output_added.OutputArea', handleAddOutput);\n",
       "\n",
       "    /**\n",
       "     * Register the mime type and append_mime function with output_area\n",
       "     */\n",
       "    OutputArea.prototype.register_mime_type(EXEC_MIME_TYPE, append_mime, {\n",
       "      /* Is output safe? */\n",
       "      safe: true,\n",
       "      /* Index of renderer in `output_area.display_order` */\n",
       "      index: 0\n",
       "    });\n",
       "  }\n",
       "\n",
       "  // register the mime type if in Jupyter Notebook environment and previously unregistered\n",
       "  if (root.Jupyter !== undefined) {\n",
       "    var events = require('base/js/events');\n",
       "    var OutputArea = require('notebook/js/outputarea').OutputArea;\n",
       "\n",
       "    if (OutputArea.prototype.mime_types().indexOf(EXEC_MIME_TYPE) == -1) {\n",
       "      register_renderer(events, OutputArea);\n",
       "    }\n",
       "  }\n",
       "\n",
       "  \n",
       "  if (typeof (root._bokeh_timeout) === \"undefined\" || force === true) {\n",
       "    root._bokeh_timeout = Date.now() + 5000;\n",
       "    root._bokeh_failed_load = false;\n",
       "  }\n",
       "\n",
       "  var NB_LOAD_WARNING = {'data': {'text/html':\n",
       "     \"<div style='background-color: #fdd'>\\n\"+\n",
       "     \"<p>\\n\"+\n",
       "     \"BokehJS does not appear to have successfully loaded. If loading BokehJS from CDN, this \\n\"+\n",
       "     \"may be due to a slow or bad network connection. Possible fixes:\\n\"+\n",
       "     \"</p>\\n\"+\n",
       "     \"<ul>\\n\"+\n",
       "     \"<li>re-rerun `output_notebook()` to attempt to load from CDN again, or</li>\\n\"+\n",
       "     \"<li>use INLINE resources instead, as so:</li>\\n\"+\n",
       "     \"</ul>\\n\"+\n",
       "     \"<code>\\n\"+\n",
       "     \"from bokeh.resources import INLINE\\n\"+\n",
       "     \"output_notebook(resources=INLINE)\\n\"+\n",
       "     \"</code>\\n\"+\n",
       "     \"</div>\"}};\n",
       "\n",
       "  function display_loaded() {\n",
       "    var el = document.getElementById(\"8414f6ec-1f34-48bd-9517-2bb9bf52105f\");\n",
       "    if (el != null) {\n",
       "      el.textContent = \"BokehJS is loading...\";\n",
       "    }\n",
       "    if (root.Bokeh !== undefined) {\n",
       "      if (el != null) {\n",
       "        el.textContent = \"BokehJS \" + root.Bokeh.version + \" successfully loaded.\";\n",
       "      }\n",
       "    } else if (Date.now() < root._bokeh_timeout) {\n",
       "      setTimeout(display_loaded, 100)\n",
       "    }\n",
       "  }\n",
       "\n",
       "\n",
       "  function run_callbacks() {\n",
       "    try {\n",
       "      root._bokeh_onload_callbacks.forEach(function(callback) { callback() });\n",
       "    }\n",
       "    finally {\n",
       "      delete root._bokeh_onload_callbacks\n",
       "    }\n",
       "    console.info(\"Bokeh: all callbacks have finished\");\n",
       "  }\n",
       "\n",
       "  function load_libs(js_urls, callback) {\n",
       "    root._bokeh_onload_callbacks.push(callback);\n",
       "    if (root._bokeh_is_loading > 0) {\n",
       "      console.log(\"Bokeh: BokehJS is being loaded, scheduling callback at\", now());\n",
       "      return null;\n",
       "    }\n",
       "    if (js_urls == null || js_urls.length === 0) {\n",
       "      run_callbacks();\n",
       "      return null;\n",
       "    }\n",
       "    console.log(\"Bokeh: BokehJS not loaded, scheduling load and callback at\", now());\n",
       "    root._bokeh_is_loading = js_urls.length;\n",
       "    for (var i = 0; i < js_urls.length; i++) {\n",
       "      var url = js_urls[i];\n",
       "      var s = document.createElement('script');\n",
       "      s.src = url;\n",
       "      s.async = false;\n",
       "      s.onreadystatechange = s.onload = function() {\n",
       "        root._bokeh_is_loading--;\n",
       "        if (root._bokeh_is_loading === 0) {\n",
       "          console.log(\"Bokeh: all BokehJS libraries loaded\");\n",
       "          run_callbacks()\n",
       "        }\n",
       "      };\n",
       "      s.onerror = function() {\n",
       "        console.warn(\"failed to load library \" + url);\n",
       "      };\n",
       "      console.log(\"Bokeh: injecting script tag for BokehJS library: \", url);\n",
       "      document.getElementsByTagName(\"head\")[0].appendChild(s);\n",
       "    }\n",
       "  };var element = document.getElementById(\"8414f6ec-1f34-48bd-9517-2bb9bf52105f\");\n",
       "  if (element == null) {\n",
       "    console.log(\"Bokeh: ERROR: autoload.js configured with elementid '8414f6ec-1f34-48bd-9517-2bb9bf52105f' but no matching script tag was found. \")\n",
       "    return false;\n",
       "  }\n",
       "\n",
       "  var js_urls = [\"https://cdn.pydata.org/bokeh/release/bokeh-0.12.10.min.js\", \"https://cdn.pydata.org/bokeh/release/bokeh-widgets-0.12.10.min.js\", \"https://cdn.pydata.org/bokeh/release/bokeh-tables-0.12.10.min.js\", \"https://cdn.pydata.org/bokeh/release/bokeh-gl-0.12.10.min.js\"];\n",
       "\n",
       "  var inline_js = [\n",
       "    function(Bokeh) {\n",
       "      Bokeh.set_log_level(\"info\");\n",
       "    },\n",
       "    \n",
       "    function(Bokeh) {\n",
       "      \n",
       "    },\n",
       "    function(Bokeh) {\n",
       "      console.log(\"Bokeh: injecting CSS: https://cdn.pydata.org/bokeh/release/bokeh-0.12.10.min.css\");\n",
       "      Bokeh.embed.inject_css(\"https://cdn.pydata.org/bokeh/release/bokeh-0.12.10.min.css\");\n",
       "      console.log(\"Bokeh: injecting CSS: https://cdn.pydata.org/bokeh/release/bokeh-widgets-0.12.10.min.css\");\n",
       "      Bokeh.embed.inject_css(\"https://cdn.pydata.org/bokeh/release/bokeh-widgets-0.12.10.min.css\");\n",
       "      console.log(\"Bokeh: injecting CSS: https://cdn.pydata.org/bokeh/release/bokeh-tables-0.12.10.min.css\");\n",
       "      Bokeh.embed.inject_css(\"https://cdn.pydata.org/bokeh/release/bokeh-tables-0.12.10.min.css\");\n",
       "    }\n",
       "  ];\n",
       "\n",
       "  function run_inline_js() {\n",
       "    \n",
       "    if ((root.Bokeh !== undefined) || (force === true)) {\n",
       "      for (var i = 0; i < inline_js.length; i++) {\n",
       "        inline_js[i].call(root, root.Bokeh);\n",
       "      }if (force === true) {\n",
       "        display_loaded();\n",
       "      }} else if (Date.now() < root._bokeh_timeout) {\n",
       "      setTimeout(run_inline_js, 100);\n",
       "    } else if (!root._bokeh_failed_load) {\n",
       "      console.log(\"Bokeh: BokehJS failed to load within specified timeout.\");\n",
       "      root._bokeh_failed_load = true;\n",
       "    } else if (force !== true) {\n",
       "      var cell = $(document.getElementById(\"8414f6ec-1f34-48bd-9517-2bb9bf52105f\")).parents('.cell').data().cell;\n",
       "      cell.output_area.append_execute_result(NB_LOAD_WARNING)\n",
       "    }\n",
       "\n",
       "  }\n",
       "\n",
       "  if (root._bokeh_is_loading === 0) {\n",
       "    console.log(\"Bokeh: BokehJS loaded, going straight to plotting\");\n",
       "    run_inline_js();\n",
       "  } else {\n",
       "    load_libs(js_urls, function() {\n",
       "      console.log(\"Bokeh: BokehJS plotting callback run at\", now());\n",
       "      run_inline_js();\n",
       "    });\n",
       "  }\n",
       "}(window));"
      ],
      "application/vnd.bokehjs_load.v0+json": "\n(function(root) {\n  function now() {\n    return new Date();\n  }\n\n  var force = true;\n\n  if (typeof (root._bokeh_onload_callbacks) === \"undefined\" || force === true) {\n    root._bokeh_onload_callbacks = [];\n    root._bokeh_is_loading = undefined;\n  }\n\n  \n\n  \n  if (typeof (root._bokeh_timeout) === \"undefined\" || force === true) {\n    root._bokeh_timeout = Date.now() + 5000;\n    root._bokeh_failed_load = false;\n  }\n\n  var NB_LOAD_WARNING = {'data': {'text/html':\n     \"<div style='background-color: #fdd'>\\n\"+\n     \"<p>\\n\"+\n     \"BokehJS does not appear to have successfully loaded. If loading BokehJS from CDN, this \\n\"+\n     \"may be due to a slow or bad network connection. Possible fixes:\\n\"+\n     \"</p>\\n\"+\n     \"<ul>\\n\"+\n     \"<li>re-rerun `output_notebook()` to attempt to load from CDN again, or</li>\\n\"+\n     \"<li>use INLINE resources instead, as so:</li>\\n\"+\n     \"</ul>\\n\"+\n     \"<code>\\n\"+\n     \"from bokeh.resources import INLINE\\n\"+\n     \"output_notebook(resources=INLINE)\\n\"+\n     \"</code>\\n\"+\n     \"</div>\"}};\n\n  function display_loaded() {\n    var el = document.getElementById(\"8414f6ec-1f34-48bd-9517-2bb9bf52105f\");\n    if (el != null) {\n      el.textContent = \"BokehJS is loading...\";\n    }\n    if (root.Bokeh !== undefined) {\n      if (el != null) {\n        el.textContent = \"BokehJS \" + root.Bokeh.version + \" successfully loaded.\";\n      }\n    } else if (Date.now() < root._bokeh_timeout) {\n      setTimeout(display_loaded, 100)\n    }\n  }\n\n\n  function run_callbacks() {\n    try {\n      root._bokeh_onload_callbacks.forEach(function(callback) { callback() });\n    }\n    finally {\n      delete root._bokeh_onload_callbacks\n    }\n    console.info(\"Bokeh: all callbacks have finished\");\n  }\n\n  function load_libs(js_urls, callback) {\n    root._bokeh_onload_callbacks.push(callback);\n    if (root._bokeh_is_loading > 0) {\n      console.log(\"Bokeh: BokehJS is being loaded, scheduling callback at\", now());\n      return null;\n    }\n    if (js_urls == null || js_urls.length === 0) {\n      run_callbacks();\n      return null;\n    }\n    console.log(\"Bokeh: BokehJS not loaded, scheduling load and callback at\", now());\n    root._bokeh_is_loading = js_urls.length;\n    for (var i = 0; i < js_urls.length; i++) {\n      var url = js_urls[i];\n      var s = document.createElement('script');\n      s.src = url;\n      s.async = false;\n      s.onreadystatechange = s.onload = function() {\n        root._bokeh_is_loading--;\n        if (root._bokeh_is_loading === 0) {\n          console.log(\"Bokeh: all BokehJS libraries loaded\");\n          run_callbacks()\n        }\n      };\n      s.onerror = function() {\n        console.warn(\"failed to load library \" + url);\n      };\n      console.log(\"Bokeh: injecting script tag for BokehJS library: \", url);\n      document.getElementsByTagName(\"head\")[0].appendChild(s);\n    }\n  };var element = document.getElementById(\"8414f6ec-1f34-48bd-9517-2bb9bf52105f\");\n  if (element == null) {\n    console.log(\"Bokeh: ERROR: autoload.js configured with elementid '8414f6ec-1f34-48bd-9517-2bb9bf52105f' but no matching script tag was found. \")\n    return false;\n  }\n\n  var js_urls = [\"https://cdn.pydata.org/bokeh/release/bokeh-0.12.10.min.js\", \"https://cdn.pydata.org/bokeh/release/bokeh-widgets-0.12.10.min.js\", \"https://cdn.pydata.org/bokeh/release/bokeh-tables-0.12.10.min.js\", \"https://cdn.pydata.org/bokeh/release/bokeh-gl-0.12.10.min.js\"];\n\n  var inline_js = [\n    function(Bokeh) {\n      Bokeh.set_log_level(\"info\");\n    },\n    \n    function(Bokeh) {\n      \n    },\n    function(Bokeh) {\n      console.log(\"Bokeh: injecting CSS: https://cdn.pydata.org/bokeh/release/bokeh-0.12.10.min.css\");\n      Bokeh.embed.inject_css(\"https://cdn.pydata.org/bokeh/release/bokeh-0.12.10.min.css\");\n      console.log(\"Bokeh: injecting CSS: https://cdn.pydata.org/bokeh/release/bokeh-widgets-0.12.10.min.css\");\n      Bokeh.embed.inject_css(\"https://cdn.pydata.org/bokeh/release/bokeh-widgets-0.12.10.min.css\");\n      console.log(\"Bokeh: injecting CSS: https://cdn.pydata.org/bokeh/release/bokeh-tables-0.12.10.min.css\");\n      Bokeh.embed.inject_css(\"https://cdn.pydata.org/bokeh/release/bokeh-tables-0.12.10.min.css\");\n    }\n  ];\n\n  function run_inline_js() {\n    \n    if ((root.Bokeh !== undefined) || (force === true)) {\n      for (var i = 0; i < inline_js.length; i++) {\n        inline_js[i].call(root, root.Bokeh);\n      }if (force === true) {\n        display_loaded();\n      }} else if (Date.now() < root._bokeh_timeout) {\n      setTimeout(run_inline_js, 100);\n    } else if (!root._bokeh_failed_load) {\n      console.log(\"Bokeh: BokehJS failed to load within specified timeout.\");\n      root._bokeh_failed_load = true;\n    } else if (force !== true) {\n      var cell = $(document.getElementById(\"8414f6ec-1f34-48bd-9517-2bb9bf52105f\")).parents('.cell').data().cell;\n      cell.output_area.append_execute_result(NB_LOAD_WARNING)\n    }\n\n  }\n\n  if (root._bokeh_is_loading === 0) {\n    console.log(\"Bokeh: BokehJS loaded, going straight to plotting\");\n    run_inline_js();\n  } else {\n    load_libs(js_urls, function() {\n      console.log(\"Bokeh: BokehJS plotting callback run at\", now());\n      run_inline_js();\n    });\n  }\n}(window));"
     },
     "metadata": {},
     "output_type": "display_data"
    },
    {
     "data": {
      "text/html": [
       "\n",
       "<div class=\"bk-root\">\n",
       "    <div class=\"bk-plotdiv\" id=\"47fb8260-aa46-46cb-9232-9f41be497689\"></div>\n",
       "</div>"
      ]
     },
     "metadata": {},
     "output_type": "display_data"
    },
    {
     "data": {
      "application/javascript": [
       "(function(root) {\n",
       "  function embed_document(root) {\n",
       "    var docs_json = {\"fb53b380-36f9-404d-9e23-0e659191e391\":{\"roots\":{\"references\":[{\"attributes\":{},\"id\":\"711d54fb-980d-4ed3-84b2-c3112acaa046\",\"type\":\"ResetTool\"},{\"attributes\":{},\"id\":\"c3559f22-618a-4f00-8c93-09111f9bf221\",\"type\":\"LinearScale\"},{\"attributes\":{},\"id\":\"81e7fda2-ffc5-4fdf-a9e9-109b0cc99226\",\"type\":\"BasicTicker\"},{\"attributes\":{\"plot\":null,\"text\":\"C aa and variation across aa for Bacterias\"},\"id\":\"5a7415c7-d140-4bcd-95f7-a67c186d775b\",\"type\":\"Title\"},{\"attributes\":{\"below\":[{\"id\":\"b52c4eb2-96c3-4ecb-b19b-cd1d15f07303\",\"type\":\"LinearAxis\"}],\"left\":[{\"id\":\"4112e40f-7e92-45f1-aa4b-e6046afb7b8c\",\"type\":\"LinearAxis\"}],\"plot_width\":1000,\"renderers\":[{\"id\":\"b52c4eb2-96c3-4ecb-b19b-cd1d15f07303\",\"type\":\"LinearAxis\"},{\"id\":\"99a0c78a-b3fc-46d2-acce-394740936d07\",\"type\":\"Grid\"},{\"id\":\"4112e40f-7e92-45f1-aa4b-e6046afb7b8c\",\"type\":\"LinearAxis\"},{\"id\":\"f199c3e9-e8d4-4c98-8af3-7e707ae43034\",\"type\":\"Grid\"},{\"id\":\"223f464b-db18-4139-88b0-a620b244b773\",\"type\":\"BoxAnnotation\"},{\"id\":\"c3b86fb4-4e3b-4a3c-b8db-096e503c44ac\",\"type\":\"GlyphRenderer\"}],\"title\":{\"id\":\"5a7415c7-d140-4bcd-95f7-a67c186d775b\",\"type\":\"Title\"},\"toolbar\":{\"id\":\"8ca6c4e0-bc19-4fcc-96fb-03bbca84729a\",\"type\":\"Toolbar\"},\"x_range\":{\"id\":\"ea3afcde-a591-4afa-a589-d3914daced47\",\"type\":\"DataRange1d\"},\"x_scale\":{\"id\":\"7323ce14-5a61-4834-8fe4-a0986b713d01\",\"type\":\"LinearScale\"},\"y_range\":{\"id\":\"e29750e0-65ad-49be-9b86-a47f380edc60\",\"type\":\"DataRange1d\"},\"y_scale\":{\"id\":\"c3559f22-618a-4f00-8c93-09111f9bf221\",\"type\":\"LinearScale\"}},\"id\":\"cda4125e-27ae-4ca2-b488-eb12e435d413\",\"subtype\":\"Figure\",\"type\":\"Plot\"},{\"attributes\":{\"formatter\":{\"id\":\"43cdad5a-4ca6-409f-8326-3b3336b3e5c2\",\"type\":\"BasicTickFormatter\"},\"major_label_orientation\":0.7853981633974483,\"plot\":{\"id\":\"cda4125e-27ae-4ca2-b488-eb12e435d413\",\"subtype\":\"Figure\",\"type\":\"Plot\"},\"ticker\":{\"id\":\"8689c9db-d026-48a4-b608-3c959bb9224f\",\"type\":\"BasicTicker\"}},\"id\":\"b52c4eb2-96c3-4ecb-b19b-cd1d15f07303\",\"type\":\"LinearAxis\"},{\"attributes\":{},\"id\":\"8689c9db-d026-48a4-b608-3c959bb9224f\",\"type\":\"BasicTicker\"},{\"attributes\":{\"data_source\":{\"id\":\"433b9441-bad2-4e62-96f3-c31ffd12af22\",\"type\":\"ColumnDataSource\"},\"glyph\":{\"id\":\"c0939006-25ee-40b8-b13e-42771ae3611e\",\"type\":\"VBar\"},\"hover_glyph\":null,\"muted_glyph\":null,\"nonselection_glyph\":{\"id\":\"65092dfb-63fe-43de-9a20-bad0246919ee\",\"type\":\"VBar\"},\"selection_glyph\":null,\"view\":{\"id\":\"0514c620-4d1f-47c9-998a-7fec0d3ccd67\",\"type\":\"CDSView\"}},\"id\":\"c3b86fb4-4e3b-4a3c-b8db-096e503c44ac\",\"type\":\"GlyphRenderer\"},{\"attributes\":{\"callback\":null,\"column_names\":[\"x\",\"top\",\"bottom\"],\"data\":{\"bottom\":{\"__ndarray__\":\"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\",\"dtype\":\"float64\",\"shape\":[300]},\"top\":{\"__ndarray__\":\"hCVO9dZdpz871jI24NapP0Ex7we07q4/zuqGFmfnqj8by7VEm5mpP7QfR7/Oc6s/kCSNuc0rrD8LeUP9rLqxP6/2LBt2wLA/QQGq4JkjsT+VYkumwcuyP54m86Q8iLQ/CLKh/+uNtT8tTjXprAGzP2lSbdRECbQ/XVpySTCJtD9NMOwnJRK9Px4IxLF05bo/NSy6N8CTuT/gU/40TxfBPw3rPY6asLo/N6dH15ShwT+UWz0+Ka+6P9elt2OI6bs/rKXqLkeZvD/sZcsVzIy8Pw15H0Qvqrs/1uyyxWVjvz8eqG5uX8C/P/zOIUEh778/MTT4+3Wnwz/DAbu6+SvAP6F/FlkxDL8/Qgjmdp5Cvz8lTbh+vb7GPzyT/zmx6ME/r5zHL4FOwj/dAlVGbcPAP2POBha73cI/0r3/c5hAwT8CjHC+T8HBP1PAgtq4GcI/8sG5B6YZwj/Bb9fHvXXCP0Yl03Kr5sI/ATi7dIAewz+uKu4RS3vDP8ZB/AWBPMM/yRoMJ4HZyD+5vpBOa+nCP6smCjjNfMQ/ELWnVk2Vxz+eMcK+d43GP79VPuRA1MQ/XMC2UsdzxT8UoEjLtKzTP2480JePN8U/9kn4N3zdxT+DyooccGLFPwSQU5yA98Y/EYKFag6nxT/ziiIlqQ3QP4xKneMGlc0/DhTkGYhgzj8i8h8pqdnKP1xe52b/5NU/zLFMlHdZyj/gUg0rB0XKPzRDWTi4Oso/Xw09zvzeyD+eSdJbud7IPw+fJgonD8s/2g/cWb7Fyj8u7ws8U4XRP3Po/N1cNMo/Bj7cwwSr0D/RlVzVmVrKPwHIutVi5co/kJMYCOV7yz/Cszq8dYPSP2w7kKeuMNA/QnwdysgZzD9vm18Zp0HMP6R47PGzCtA/KszWCHQUzD8H4rIRPC3OP4CkfVClWM0/OXXjUMA93z8//nb9frvOP+x3S764F80/O8vK1w9QzT8pNla0nVTNPyQslpywONE/hZoHwE0r0T+AZFW9ukzOPxbF3RwPStI/VhEGmYL2zj928KuBZ6XRPzKWdsjy8s8/vOohcGKv0z+10tdKVS/RP/aVTqudfdA/JjI7V8pB0T9WFSsmVEPSP/pPsjIOntE/tqynZU5s0T8G2uDMLqTiPxhssfOOP9I/ga06yTCk4j+JNi22mu3SPwQrrE4ardM/9iWaJW0q1D+VAF7qy2LUPyOmCwvXsdE/3SU+OpwD0j/mcfBXFhvbP9xabZ/PO9I/HJP1o61I0j/8ctnfC23SP8htaW+lhdI/1cWDPWWw0j9FYTV3uXvSP+FoS983R9Q/SMHh6Ol60j9YY9IqiprTPzhl4SpMAtM/NACkdXuo1D8h9PHlHODUPw6jqQRDwtM/IzXzp69e1D/xzXhjKkDUPw7DGlVE1dQ/W7Faz3Vd1j+ITLtfgFnVP05bc8S89dU/HKJCxFH41z/WokEKva3VP0dZ4aVMmdg/LyyYdBEj1j+tD9IDN4beP4SiPTzH+tY/duuFTcus3D8EBzU3xODXPzGSfrAu9dc/IUKCtVW42D8ToXdvclnXPzlPZa7qAdg/7zVqi0pV2D8iNJySgODYP2sXVhkmj9g/AZegPwKZ2D9B/tL9PJjcP3egjoK9iNk/XlBhkzH22D/2OgAhql3ZP0bmTXphq9s/pUtNnusb2T8FvVJxHGjZPy8Xl1CDJdw/LrexZWF33z/5ofi3ALfbP5pmEPwIWdo/KHubj9Hw2j+9g/lPDq3bP80K2pSU29s/RHrdfM4Z3D9Wj3ZOL2vcPy2mqXqpKtw/JtZgz5M73D9DQuWnd67bP2mYs5o3Sdw/vOSuNigo3D+MtGemqzHeP5FzkDFOQNw/PH3KZoM53T8Ofa10bfrjPwSm6+i3pd0/8tCfBlrI3T9hRn5zbSneP9gw+T/da94/40Azosk13j9qzYvS/abePxgkmlrhC+A/uFBrSh4z4D/xb7Utb3DgPyLaHhS+suA/1U6WfiK/5D+IZQg38p/gP2vkYnnwgeA/A4Fl+pQo4T+Hie/qKZ3gP4x/m9CFM+E/IDRCJsr24D9STIIVFPHhP+rFn3SCQOE/1QKha6Ri4T/8h5pxKa/hP1n9fjQg8uE/xn/fM5uQ4T/k1+JyQNrhP2Hbfk3ZBeI/UmPliC1z4j8KpwWVGQXjP+fyGvt8y+I/HZgQLFLf4j+cxYFrVWrjPwo8jJtEnOM/Y+XBr+7J4z96LwCHh0/jPzElZ0ANpOM/xhGHAbLQ4z+keiU9SF3kP/AQqey7ZeQ/NnFabz4h5D9bu7Yz913kPyCmL4LSSOQ/wZEO1Ui55D9hawQRbJPkP66dmJskkeQ/3vJyVwaX5T9Oxa3zqZzkP17E51GMheU/J4HKYteB5T+Gq6ZXTcXmP/yEN8wpdec/pxvEj4EK5j+CiCY5hYTnP6Oc/iRbfeY/6+/x3oLT5j+GVQa3LeLnP5SkaD6a2ec/G6t3M+mo9j+nnpZu4DDoPx4PWa4b+ec/G2AIOn/D5z/xPCceTF3oP1QCcFpajeg/rvYsChF26D8C+Ko4l7rqP3iCjlAn4ug/eRELGH5c7D8kmpVD93fpP5Rg2aDlp+g/9goML2pI6j/lHbHFZmLpPwAAkEn/+Ok/YzOh55Ov6j+PITyLcG/rP4n2/4gXt+o/1rxE7Clm6z9mNHWIiQLrP9ELsfZNYu0/uOzSh1dO6z9qObAJErbrPzm/mA8oFe0/XKLbdU5a7T8ZzEy+IEzuP31LKocaofI/ks/Sc3Dy7j+aWqoMpMDvPzUhXPml6u8/+2ggwI8k8D9IY9TjLczwP9yTpvVxBfE/dYKEb69C8T9hcA/8wSjxPydKbrFWP/I/6EOzhhrw8T8k6CRM4+/xP09ax7mzs/I//mMFQgB39j9AphD5HsryPwSUeOCCiPI/RBCsGrVN8j9fwADUQ63zPzCvW130UfI/b8tQh36n8j+yyQTxDZPyP702f5/FmPI//fUH5GvQ8z/iQA4Z+zL0P3ES5kLO8PM/WpIGTz7A9D90SOOqKiT0P/x5mHqGO/Q/KM44HgjM9D8PEzmgUSX2P0TZ1FqT4/U/N/uK9wfu9T/7w8D+nR32P2dPSwGshfY/cq+VnWgt9z/ER8xvknj3Pyq4H1+qU/g/iIEm+TYQ/D9R4cn7f/78PyQwweT6cf8/7Lf2FaNZ/z9M7d5bgH4FQN4q5ScBYQZA\",\"dtype\":\"float64\",\"shape\":[300]},\"x\":[0,1,2,3,4,5,6,7,8,9,10,11,12,13,14,15,16,17,18,19,20,21,22,23,24,25,26,27,28,29,30,31,32,33,34,35,36,37,38,39,40,41,42,43,44,45,46,47,48,49,50,51,52,53,54,55,56,57,58,59,60,61,62,63,64,65,66,67,68,69,70,71,72,73,74,75,76,77,78,79,80,81,82,83,84,85,86,87,88,89,90,91,92,93,94,95,96,97,98,99,100,101,102,103,104,105,106,107,108,109,110,111,112,113,114,115,116,117,118,119,120,121,122,123,124,125,126,127,128,129,130,131,132,133,134,135,136,137,138,139,140,141,142,143,144,145,146,147,148,149,150,151,152,153,154,155,156,157,158,159,160,161,162,163,164,165,166,167,168,169,170,171,172,173,174,175,176,177,178,179,180,181,182,183,184,185,186,187,188,189,190,191,192,193,194,195,196,197,198,199,200,201,202,203,204,205,206,207,208,209,210,211,212,213,214,215,216,217,218,219,220,221,222,223,224,225,226,227,228,229,230,231,232,233,234,235,236,237,238,239,240,241,242,243,244,245,246,247,248,249,250,251,252,253,254,255,256,257,258,259,260,261,262,263,264,265,266,267,268,269,270,271,272,273,274,275,276,277,278,279,280,281,282,283,284,285,286,287,288,289,290,291,292,293,294,295,296,297,298,299]}},\"id\":\"433b9441-bad2-4e62-96f3-c31ffd12af22\",\"type\":\"ColumnDataSource\"},{\"attributes\":{\"bottom\":{\"field\":\"bottom\"},\"fill_alpha\":{\"value\":0.1},\"fill_color\":{\"value\":\"#1f77b4\"},\"line_alpha\":{\"value\":0.1},\"line_color\":{\"value\":\"#1f77b4\"},\"top\":{\"field\":\"top\"},\"width\":{\"value\":0.5},\"x\":{\"field\":\"x\"}},\"id\":\"65092dfb-63fe-43de-9a20-bad0246919ee\",\"type\":\"VBar\"},{\"attributes\":{\"callback\":null},\"id\":\"ea3afcde-a591-4afa-a589-d3914daced47\",\"type\":\"DataRange1d\"},{\"attributes\":{\"active_drag\":\"auto\",\"active_inspect\":\"auto\",\"active_scroll\":\"auto\",\"active_tap\":\"auto\",\"tools\":[{\"id\":\"472f56cc-31fa-4c6a-9089-03bc84121768\",\"type\":\"PanTool\"},{\"id\":\"bd7cd9da-c246-4310-8e67-8a01019f1868\",\"type\":\"WheelZoomTool\"},{\"id\":\"23a6ca51-5d3e-450c-813f-7889618697fa\",\"type\":\"BoxZoomTool\"},{\"id\":\"711d54fb-980d-4ed3-84b2-c3112acaa046\",\"type\":\"ResetTool\"},{\"id\":\"76b1b53a-5bca-4a32-a15d-8492f82a054d\",\"type\":\"SaveTool\"}]},\"id\":\"8ca6c4e0-bc19-4fcc-96fb-03bbca84729a\",\"type\":\"Toolbar\"},{\"attributes\":{\"dimension\":1,\"grid_line_alpha\":{\"value\":0.3},\"plot\":{\"id\":\"cda4125e-27ae-4ca2-b488-eb12e435d413\",\"subtype\":\"Figure\",\"type\":\"Plot\"},\"ticker\":{\"id\":\"81e7fda2-ffc5-4fdf-a9e9-109b0cc99226\",\"type\":\"BasicTicker\"}},\"id\":\"f199c3e9-e8d4-4c98-8af3-7e707ae43034\",\"type\":\"Grid\"},{\"attributes\":{\"bottom\":{\"field\":\"bottom\"},\"fill_color\":{\"value\":\"#D5E1DD\"},\"line_color\":{\"value\":\"#1f77b4\"},\"top\":{\"field\":\"top\"},\"width\":{\"value\":0.5},\"x\":{\"field\":\"x\"}},\"id\":\"c0939006-25ee-40b8-b13e-42771ae3611e\",\"type\":\"VBar\"},{\"attributes\":{},\"id\":\"472f56cc-31fa-4c6a-9089-03bc84121768\",\"type\":\"PanTool\"},{\"attributes\":{},\"id\":\"7323ce14-5a61-4834-8fe4-a0986b713d01\",\"type\":\"LinearScale\"},{\"attributes\":{\"formatter\":{\"id\":\"06fb9918-1117-4cda-98e8-57bc007431ce\",\"type\":\"BasicTickFormatter\"},\"plot\":{\"id\":\"cda4125e-27ae-4ca2-b488-eb12e435d413\",\"subtype\":\"Figure\",\"type\":\"Plot\"},\"ticker\":{\"id\":\"81e7fda2-ffc5-4fdf-a9e9-109b0cc99226\",\"type\":\"BasicTicker\"}},\"id\":\"4112e40f-7e92-45f1-aa4b-e6046afb7b8c\",\"type\":\"LinearAxis\"},{\"attributes\":{},\"id\":\"06fb9918-1117-4cda-98e8-57bc007431ce\",\"type\":\"BasicTickFormatter\"},{\"attributes\":{\"source\":{\"id\":\"433b9441-bad2-4e62-96f3-c31ffd12af22\",\"type\":\"ColumnDataSource\"}},\"id\":\"0514c620-4d1f-47c9-998a-7fec0d3ccd67\",\"type\":\"CDSView\"},{\"attributes\":{\"callback\":null},\"id\":\"e29750e0-65ad-49be-9b86-a47f380edc60\",\"type\":\"DataRange1d\"},{\"attributes\":{\"bottom_units\":\"screen\",\"fill_alpha\":{\"value\":0.5},\"fill_color\":{\"value\":\"lightgrey\"},\"left_units\":\"screen\",\"level\":\"overlay\",\"line_alpha\":{\"value\":1.0},\"line_color\":{\"value\":\"black\"},\"line_dash\":[4,4],\"line_width\":{\"value\":2},\"plot\":null,\"render_mode\":\"css\",\"right_units\":\"screen\",\"top_units\":\"screen\"},\"id\":\"223f464b-db18-4139-88b0-a620b244b773\",\"type\":\"BoxAnnotation\"},{\"attributes\":{},\"id\":\"bd7cd9da-c246-4310-8e67-8a01019f1868\",\"type\":\"WheelZoomTool\"},{\"attributes\":{},\"id\":\"43cdad5a-4ca6-409f-8326-3b3336b3e5c2\",\"type\":\"BasicTickFormatter\"},{\"attributes\":{\"overlay\":{\"id\":\"223f464b-db18-4139-88b0-a620b244b773\",\"type\":\"BoxAnnotation\"}},\"id\":\"23a6ca51-5d3e-450c-813f-7889618697fa\",\"type\":\"BoxZoomTool\"},{\"attributes\":{},\"id\":\"76b1b53a-5bca-4a32-a15d-8492f82a054d\",\"type\":\"SaveTool\"},{\"attributes\":{\"grid_line_alpha\":{\"value\":0.3},\"plot\":{\"id\":\"cda4125e-27ae-4ca2-b488-eb12e435d413\",\"subtype\":\"Figure\",\"type\":\"Plot\"},\"ticker\":{\"id\":\"8689c9db-d026-48a4-b608-3c959bb9224f\",\"type\":\"BasicTicker\"}},\"id\":\"99a0c78a-b3fc-46d2-acce-394740936d07\",\"type\":\"Grid\"}],\"root_ids\":[\"cda4125e-27ae-4ca2-b488-eb12e435d413\"]},\"title\":\"Bokeh Application\",\"version\":\"0.12.10\"}};\n",
       "    var render_items = [{\"docid\":\"fb53b380-36f9-404d-9e23-0e659191e391\",\"elementid\":\"47fb8260-aa46-46cb-9232-9f41be497689\",\"modelid\":\"cda4125e-27ae-4ca2-b488-eb12e435d413\"}];\n",
       "\n",
       "    root.Bokeh.embed.embed_items(docs_json, render_items);\n",
       "  }\n",
       "\n",
       "  if (root.Bokeh !== undefined) {\n",
       "    embed_document(root);\n",
       "  } else {\n",
       "    var attempts = 0;\n",
       "    var timer = setInterval(function(root) {\n",
       "      if (root.Bokeh !== undefined) {\n",
       "        embed_document(root);\n",
       "        clearInterval(timer);\n",
       "      }\n",
       "      attempts++;\n",
       "      if (attempts > 100) {\n",
       "        console.log(\"Bokeh: ERROR: Unable to embed document because BokehJS library is missing\")\n",
       "        clearInterval(timer);\n",
       "      }\n",
       "    }, 10, root)\n",
       "  }\n",
       "})(window);"
      ],
      "application/vnd.bokehjs_exec.v0+json": ""
     },
     "metadata": {
      "application/vnd.bokehjs_exec.v0+json": {
       "id": "cda4125e-27ae-4ca2-b488-eb12e435d413"
      }
     },
     "output_type": "display_data"
    }
   ],
   "source": [
    "from math import pi\n",
    "from bokeh.plotting import figure, show, output_file, output_notebook\n",
    "output_notebook()\n",
    "\n",
    "TOOLS = \"pan,wheel_zoom,box_zoom,reset,save\"\n",
    "\n",
    "p = figure(tools=TOOLS, plot_width=1000, title = \"C aa and variation across aa for Bacterias\")\n",
    "p.xaxis.major_label_orientation = pi/4\n",
    "p.grid.grid_line_alpha=0.3\n",
    "\n",
    "p.vbar(x=range(len(indC)), top=regC+(variationC/2), bottom=regC-(variationC/2), width=0.5, fill_color=\"#D5E1DD\")\n",
    "\n",
    "output_file(\"C-Bacterias-manhattan-full-ordered.html\", title=\"C aa and variation across aa for Bacterias\")\n",
    "show(p)  # open a browser"
   ]
  },
  {
   "cell_type": "code",
   "execution_count": 144,
   "metadata": {},
   "outputs": [],
   "source": [
    "np.savetxt(\"CBacteriasEuclidean.csv\", np.vstack((indC, regC, variationC)).T,\n",
    "           delimiter=\",\")"
   ]
  },
  {
   "cell_type": "code",
   "execution_count": null,
   "metadata": {},
   "outputs": [],
   "source": []
  },
  {
   "cell_type": "code",
   "execution_count": 121,
   "metadata": {},
   "outputs": [
    {
     "data": {
      "text/plain": [
       "array([150, 180, 119, 151, 179, 121, 273, 111, 164, 182, 181, 118, 113,\n",
       "       153, 146, 120, 290, 165,  41, 122, 147, 299,  82,  72,  14, 257,\n",
       "       123, 252, 277, 148,   8, 104,  49, 116, 112,  87,  21, 145, 287,\n",
       "        10, 108,  42, 110, 163, 237, 132, 114,   4, 152,   9, 212, 149,\n",
       "        84, 282,  95, 268, 210,  91, 197, 270, 176, 298, 162, 105,  47,\n",
       "        66, 142,  11, 249,  51, 102, 171, 291,  43,  40, 275,  53, 134,\n",
       "       286,  31, 262,  18, 127, 107, 160,  46, 246,   0, 106, 289,  50,\n",
       "       293,  48,  45,  38, 223,  54,  13,  74, 175, 173,  55,  81, 256,\n",
       "       269, 133, 183, 288, 267,  78, 154, 208, 155,  32,  37, 207,  34,\n",
       "        20, 283,   5, 205,  39,  12, 206,  23,  35,  19, 215, 156, 188,\n",
       "       216,   3, 100, 284, 251, 125, 117, 211, 296, 266,  22, 184, 238,\n",
       "        17,  26, 259, 167, 187, 276, 196, 227, 295, 220, 258,  52, 115,\n",
       "        94, 174, 235,  92, 128, 143, 272, 109,  80,  33,  83,  77, 141,\n",
       "       292, 255, 177, 190,   7, 230, 144,  89,  76, 271, 245, 264, 129,\n",
       "        65,   6,  73, 166,  64, 172, 226, 254,  36, 247,  27, 248,  63,\n",
       "       265,  86,  90, 243,  24, 239, 250, 157,  75, 101, 137, 202, 234,\n",
       "        44, 209,  30, 217, 244, 193, 224,  29, 169, 240, 192, 260, 225,\n",
       "       229, 297, 281, 280, 278, 279, 103, 261,  69,  70, 200,  68, 274,\n",
       "        59,  99, 218, 138, 204, 233,  88, 219,   2,  25, 236,  16,  56,\n",
       "       241, 232, 231, 124,  71, 242, 191, 294, 186, 168,  15,   1, 198,\n",
       "       189, 170,  79, 161,  62, 263, 253,  28, 285, 221, 203, 199, 159,\n",
       "       194, 140,  97,  98, 201, 126, 195, 222, 178,  61, 136, 135, 158,\n",
       "       213,  96,  93,  60, 214, 131, 139,  58, 130,  57,  85, 228,  67,\n",
       "       185])"
      ]
     },
     "execution_count": 121,
     "metadata": {},
     "output_type": "execute_result"
    }
   ],
   "source": [
    "indC"
   ]
  },
  {
   "cell_type": "code",
   "execution_count": 150,
   "metadata": {},
   "outputs": [
    {
     "data": {
      "text/plain": [
       "array([180, 388, 339, 232, 302, 120,  51,  59,  22, 306,  53, 172, 223,\n",
       "       289, 275,  30, 368, 286, 288, 365, 281, 268, 364, 293, 276, 157,\n",
       "       285,  11, 145,  46, 219,  38,  55, 153, 224, 279, 205, 287, 290,\n",
       "       299, 366, 128,  50, 105, 278, 150,  24, 273, 269,  10, 133, 245,\n",
       "       204, 393, 164, 357, 197, 244,  16,  39,  98,  17, 292, 253, 196,\n",
       "       243, 370, 103, 239, 148,  13,   9,  47, 246, 235, 200,  26, 328,\n",
       "       242, 240, 136, 267, 251, 394, 252, 340,  29, 318, 284, 282, 294,\n",
       "        89, 323, 387,  71,  31, 159,  96, 308,  95, 313, 247, 349, 217,\n",
       "       379, 111, 141, 280, 297,  97, 359, 336, 215, 130, 138, 342, 249,\n",
       "        94,  58, 139,  21,  14, 231,  28,  86, 177, 144, 216, 122, 314,\n",
       "       327, 248, 220, 296, 152,  76, 298, 272, 260, 301, 181, 385, 101,\n",
       "        74, 392, 277,  23,   7, 154,  67, 374, 391, 176, 271, 335,  73,\n",
       "       132,  20, 346, 386, 250, 390, 186, 321, 274, 225,  52, 140, 137,\n",
       "         1, 259,   0,  69, 375,  45, 158,  65,  70, 241,  61,  77,  19,\n",
       "       270, 369, 326, 254,  25, 214, 191, 126, 169,  54, 319, 348,  44,\n",
       "        27, 212, 338,  62, 189,   3, 165, 218,  63, 155, 131, 324,  60,\n",
       "       163, 190, 179, 187,  93, 175, 149, 255,  68, 312, 167, 256, 182,\n",
       "       125, 373, 108, 264, 305, 330, 121, 347, 104,  56,  72, 283, 188,\n",
       "       112, 238, 257, 355, 315, 380, 291, 113, 263, 151, 102, 160, 228,\n",
       "       115, 350, 236, 213, 203, 123, 183, 304, 345,   6,  36, 135, 331,\n",
       "        43,  88, 209,  57, 134, 310, 185, 174,  42, 311, 343, 161, 171,\n",
       "       307, 114,  41, 384, 127, 333, 162, 207, 234, 356, 353, 173, 367,\n",
       "       117, 210,   8, 381, 322, 334,  35, 119, 233, 221,  40, 329, 129,\n",
       "       265, 262, 316, 206,  85, 194, 266,  75, 325, 237,  37, 337, 118,\n",
       "        64, 360,  48, 341, 344, 116, 371,  18,  32, 170, 226, 198, 300,\n",
       "       100,  78,  87, 361, 107, 295, 143, 201, 202, 124, 258, 261, 317,\n",
       "       142, 230,  49,  15,  66, 195, 156,  33, 309, 363,  34, 178, 389,\n",
       "       372, 332,  82,   5, 351,  90, 378,  83, 199,  91, 110,  12, 211,\n",
       "       377,  81, 147, 184, 146, 382, 383, 352, 227,  99, 109, 222,  79,\n",
       "       303,  80, 320, 193, 192,   4, 354, 358,  84,  92, 229, 106, 208,\n",
       "         2, 376, 166, 362, 168])"
      ]
     },
     "execution_count": 150,
     "metadata": {},
     "output_type": "execute_result"
    }
   ],
   "source": [
    "indN"
   ]
  },
  {
   "cell_type": "code",
   "execution_count": 151,
   "metadata": {},
   "outputs": [
    {
     "data": {
      "text/plain": [
       "array([ 53, 410, 244, 354, 180,  55,  62,  52, 322, 198, 234, 409, 117,\n",
       "       307, 279, 203, 187, 164, 312, 367, 201,  11, 225, 163,  38, 318,\n",
       "        77, 235,  57, 121, 383,  54, 360, 311,  48, 401, 281, 268, 192,\n",
       "       342, 209,  84, 280, 170, 108, 134,  10, 386, 353, 137, 319, 172,\n",
       "       127, 316, 264,  29, 317, 403,  41, 355, 385, 265, 267, 125, 341,\n",
       "       135, 402,  90, 178, 272, 230, 150, 158, 130,  42, 376, 309, 286,\n",
       "       334, 243, 384, 193, 350, 358, 371, 407, 315, 399, 310,  16, 153,\n",
       "       229, 329,   6,   3, 186, 191,  15,  51,  39,  40, 394, 388, 363,\n",
       "       366, 161,  32,  33,   8,  70, 199, 387, 324,   4, 414,  34,  35,\n",
       "       179, 412,  58, 247, 103, 328, 284,  80, 349, 205, 348, 296, 197,\n",
       "       283, 160, 379, 210, 389, 326, 233,  56, 129, 253, 169,  85, 290,\n",
       "       330,  28, 295, 351, 208, 357, 189,  72, 390, 294,  64, 305, 262,\n",
       "       256, 263,  47,  73,  49, 392, 368, 408, 136, 236, 224, 120, 303,\n",
       "       222, 301, 415,   7, 289, 155, 287, 373,  99, 297, 278,  75, 391,\n",
       "       217, 100, 181,  65,  43, 308, 375, 227, 291,  68, 395,  82, 141,\n",
       "       133,  94, 372, 128,  59, 292,  71,  46, 188,  20, 288, 335,  19,\n",
       "       182, 364, 185, 299, 226, 340,  87,   0, 173,  78,  97,   9,  22,\n",
       "        93, 393,  25, 337, 146, 174, 306, 144,  14, 378,  96,   1, 154,\n",
       "       259, 109, 325, 416, 220, 276,  74, 250, 196, 275, 149,  24,  76,\n",
       "       397,  17, 248, 396, 271, 293,  67, 145, 190,  61, 231, 400, 298,\n",
       "       118, 167, 176,  26,  44, 417, 257, 138,  36, 139,  27, 219, 142,\n",
       "       327, 207, 249,  88, 122,  66,  79, 223, 177, 269, 147, 211,  69,\n",
       "        18, 370, 258, 168, 411,  21, 352, 159, 255, 285, 266, 215, 110,\n",
       "       323, 151, 239,  91, 274, 101, 361,  63, 165, 331, 261,  45, 304,\n",
       "       156, 300, 377, 347, 252, 105, 338, 140, 232, 245, 102, 270, 175,\n",
       "       251,  30,  23, 143, 254, 343, 332, 365, 148, 282, 321, 346, 302,\n",
       "        98,  12, 277, 333, 107, 339, 216, 246, 345,  95, 119,  92, 320,\n",
       "       131,   5, 116,  86, 123,  37, 413, 113, 171, 344, 162, 237, 260,\n",
       "       382, 336, 112, 111, 183, 124, 132, 157, 406, 126, 313, 184, 212,\n",
       "       152, 115,  50, 241,  83, 359, 273, 404, 218,  31, 114, 238, 405,\n",
       "       204, 202, 213, 374, 214,  60, 194, 398, 206,  81,  89, 221,  13,\n",
       "       381, 240, 314, 356, 362, 104, 200, 369, 380,   2, 195, 106, 242,\n",
       "       228, 166])"
      ]
     },
     "execution_count": 151,
     "metadata": {},
     "output_type": "execute_result"
    }
   ],
   "source": [
    "indD"
   ]
  },
  {
   "cell_type": "markdown",
   "metadata": {
    "collapsed": true
   },
   "source": [
    "Doing a better plot and outputting the results as species, mean, var ordered by mean value"
   ]
  },
  {
   "cell_type": "markdown",
   "metadata": {
    "collapsed": true
   },
   "source": [
    "$$ ((1-a)^2  + (1-b)^2)^{1/2}   and   |(1-a)|  + |(1-b)| $$"
   ]
  },
  {
   "cell_type": "code",
   "execution_count": null,
   "metadata": {},
   "outputs": [],
   "source": []
  }
 ],
 "metadata": {
  "kernelspec": {
   "display_name": "Python 2",
   "language": "python",
   "name": "python2"
  },
  "language_info": {
   "codemirror_mode": {
    "name": "ipython",
    "version": 2
   },
   "file_extension": ".py",
   "mimetype": "text/x-python",
   "name": "python",
   "nbconvert_exporter": "python",
   "pygments_lexer": "ipython2",
   "version": "2.7.14"
  }
 },
 "nbformat": 4,
 "nbformat_minor": 2
}
